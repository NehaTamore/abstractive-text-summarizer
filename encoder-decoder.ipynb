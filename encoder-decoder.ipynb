{
 "cells": [
  {
   "cell_type": "code",
   "execution_count": 1,
   "metadata": {
    "_cell_guid": "b1076dfc-b9ad-4769-8c92-a6c4dae69d19",
    "_uuid": "8f2839f25d086af736a60e9eeb907d3b93b6e0e5"
   },
   "outputs": [
    {
     "name": "stdout",
     "output_type": "stream",
     "text": [
      "['kindle-reviews', 'glove-global-vectors-for-word-representation']\n"
     ]
    },
    {
     "name": "stderr",
     "output_type": "stream",
     "text": [
      "Using TensorFlow backend.\n"
     ]
    }
   ],
   "source": [
    "# This Python 3 environment comes with many helpful analytics libraries installed\n",
    "# It is defined by the kaggle/python docker image: https://github.com/kaggle/docker-python\n",
    "# For example, here's several helpful packages to load in \n",
    "\n",
    "import numpy as np # linear algebra\n",
    "import pandas as pd # data processing, CSV file I/O (e.g. pd.read_csv)\n",
    "\n",
    "# Input data files are available in the \"../input/\" directory.\n",
    "# For example, running this (by clicking run or pressing Shift+Enter) will list the files in the input directory\n",
    "\n",
    "import os\n",
    "print(os.listdir(\"../input\"))\n",
    "\n",
    "# Any results you write to the current directory are saved as output.\n",
    "# This Python 3 environment comes with many helpful analytics libraries installed\n",
    "# It is defined by the kaggle/python docker image: https://github.com/kaggle/docker-python\n",
    "# For example, here's several helpful packages to load in \n",
    "\n",
    "import numpy as np # linear algebra\n",
    "import pandas as pd # data processing, CSV file I/O (e.g. pd.read_csv)\n",
    "import os, sys, tarfile\n",
    "\n",
    "# Input data files are available in the \"../input/\" directory.\n",
    "# For example, running this (by clicking run or pressing Shift+Enter) will list the files in the input directory\n",
    "\n",
    "import os\n",
    "\n",
    "from keras.preprocessing.text import Tokenizer,text_to_word_sequence \n",
    "from keras.preprocessing.sequence import pad_sequences\n",
    "from keras.layers import Input, Dropout, Dense, BatchNormalization, Activation, concatenate, GRU,LSTM, Embedding, Flatten, Lambda, BatchNormalization\n",
    "from keras.models import Model\n",
    "from keras.callbacks import ModelCheckpoint, Callback, EarlyStopping\n",
    "from keras import backend as K\n",
    "from keras import optimizers\n",
    "# Any results you write to the current directory are saved as output."
   ]
  },
  {
   "cell_type": "code",
   "execution_count": 2,
   "metadata": {
    "_cell_guid": "79c7e3d0-c299-4dcb-8224-4455121ee9b0",
    "_uuid": "d629ff2d2480ee46fbb7e2d37f6b5fab8052498a"
   },
   "outputs": [],
   "source": [
    "kindle_reviews = pd.read_csv('../input/kindle-reviews/kindle_reviews.csv')"
   ]
  },
  {
   "cell_type": "code",
   "execution_count": 3,
   "metadata": {},
   "outputs": [
    {
     "data": {
      "text/plain": [
       "(982619, 10)"
      ]
     },
     "execution_count": 3,
     "metadata": {},
     "output_type": "execute_result"
    }
   ],
   "source": [
    "kindle_reviews.shape"
   ]
  },
  {
   "cell_type": "code",
   "execution_count": 4,
   "metadata": {},
   "outputs": [
    {
     "data": {
      "text/html": [
       "<div>\n",
       "<style scoped>\n",
       "    .dataframe tbody tr th:only-of-type {\n",
       "        vertical-align: middle;\n",
       "    }\n",
       "\n",
       "    .dataframe tbody tr th {\n",
       "        vertical-align: top;\n",
       "    }\n",
       "\n",
       "    .dataframe thead th {\n",
       "        text-align: right;\n",
       "    }\n",
       "</style>\n",
       "<table border=\"1\" class=\"dataframe\">\n",
       "  <thead>\n",
       "    <tr style=\"text-align: right;\">\n",
       "      <th></th>\n",
       "      <th>Unnamed: 0</th>\n",
       "      <th>asin</th>\n",
       "      <th>helpful</th>\n",
       "      <th>overall</th>\n",
       "      <th>reviewText</th>\n",
       "      <th>reviewTime</th>\n",
       "      <th>reviewerID</th>\n",
       "      <th>reviewerName</th>\n",
       "      <th>summary</th>\n",
       "      <th>unixReviewTime</th>\n",
       "    </tr>\n",
       "  </thead>\n",
       "  <tbody>\n",
       "    <tr>\n",
       "      <th>0</th>\n",
       "      <td>0</td>\n",
       "      <td>B000F83SZQ</td>\n",
       "      <td>[0, 0]</td>\n",
       "      <td>5</td>\n",
       "      <td>I enjoy vintage books and movies so I enjoyed ...</td>\n",
       "      <td>05 5, 2014</td>\n",
       "      <td>A1F6404F1VG29J</td>\n",
       "      <td>Avidreader</td>\n",
       "      <td>Nice vintage story</td>\n",
       "      <td>1399248000</td>\n",
       "    </tr>\n",
       "    <tr>\n",
       "      <th>1</th>\n",
       "      <td>1</td>\n",
       "      <td>B000F83SZQ</td>\n",
       "      <td>[2, 2]</td>\n",
       "      <td>4</td>\n",
       "      <td>This book is a reissue of an old one; the auth...</td>\n",
       "      <td>01 6, 2014</td>\n",
       "      <td>AN0N05A9LIJEQ</td>\n",
       "      <td>critters</td>\n",
       "      <td>Different...</td>\n",
       "      <td>1388966400</td>\n",
       "    </tr>\n",
       "    <tr>\n",
       "      <th>2</th>\n",
       "      <td>2</td>\n",
       "      <td>B000F83SZQ</td>\n",
       "      <td>[2, 2]</td>\n",
       "      <td>4</td>\n",
       "      <td>This was a fairly interesting read.  It had ol...</td>\n",
       "      <td>04 4, 2014</td>\n",
       "      <td>A795DMNCJILA6</td>\n",
       "      <td>dot</td>\n",
       "      <td>Oldie</td>\n",
       "      <td>1396569600</td>\n",
       "    </tr>\n",
       "    <tr>\n",
       "      <th>3</th>\n",
       "      <td>3</td>\n",
       "      <td>B000F83SZQ</td>\n",
       "      <td>[1, 1]</td>\n",
       "      <td>5</td>\n",
       "      <td>I'd never read any of the Amy Brewster mysteri...</td>\n",
       "      <td>02 19, 2014</td>\n",
       "      <td>A1FV0SX13TWVXQ</td>\n",
       "      <td>Elaine H. Turley \"Montana Songbird\"</td>\n",
       "      <td>I really liked it.</td>\n",
       "      <td>1392768000</td>\n",
       "    </tr>\n",
       "    <tr>\n",
       "      <th>4</th>\n",
       "      <td>4</td>\n",
       "      <td>B000F83SZQ</td>\n",
       "      <td>[0, 1]</td>\n",
       "      <td>4</td>\n",
       "      <td>If you like period pieces - clothing, lingo, y...</td>\n",
       "      <td>03 19, 2014</td>\n",
       "      <td>A3SPTOKDG7WBLN</td>\n",
       "      <td>Father Dowling Fan</td>\n",
       "      <td>Period Mystery</td>\n",
       "      <td>1395187200</td>\n",
       "    </tr>\n",
       "  </tbody>\n",
       "</table>\n",
       "</div>"
      ],
      "text/plain": [
       "   Unnamed: 0        asin       ...                   summary  unixReviewTime\n",
       "0           0  B000F83SZQ       ...        Nice vintage story      1399248000\n",
       "1           1  B000F83SZQ       ...              Different...      1388966400\n",
       "2           2  B000F83SZQ       ...                     Oldie      1396569600\n",
       "3           3  B000F83SZQ       ...        I really liked it.      1392768000\n",
       "4           4  B000F83SZQ       ...            Period Mystery      1395187200\n",
       "\n",
       "[5 rows x 10 columns]"
      ]
     },
     "execution_count": 4,
     "metadata": {},
     "output_type": "execute_result"
    }
   ],
   "source": [
    "kindle_reviews.head()"
   ]
  },
  {
   "cell_type": "code",
   "execution_count": 5,
   "metadata": {},
   "outputs": [],
   "source": [
    "pd.set_option('display.max_info_columns',1000)\n",
    "pd.set_option('display.max_colwidth',5000)\n",
    "kindle_reviews.drop(columns = ['asin', 'helpful', 'overall', 'reviewTime', 'reviewerID', 'reviewerName', 'unixReviewTime'],\n",
    "                    axis=1, inplace=True)"
   ]
  },
  {
   "cell_type": "code",
   "execution_count": 6,
   "metadata": {},
   "outputs": [],
   "source": [
    "kindle_reviews.columns = ['index','review', 'summary']\n",
    "kindle_reviews.set_index(keys = 'index',inplace=True)"
   ]
  },
  {
   "cell_type": "code",
   "execution_count": 7,
   "metadata": {},
   "outputs": [],
   "source": [
    "from sklearn.feature_extraction import stop_words\n",
    "import re\n",
    "import string\n",
    "\n",
    "# A list of contractions from http://stackoverflow.com/questions/19790188/expanding-english-language-contractions-in-python\n",
    "contractions = { \n",
    "\"ain't\": \"am not\",\n",
    "\"aren't\": \"are not\",\n",
    "\"can't\": \"cannot\",\n",
    "\"can't've\": \"cannot have\",\n",
    "\"'cause\": \"because\",\n",
    "\"could've\": \"could have\",\n",
    "\"couldn't\": \"could not\",\n",
    "\"couldn't've\": \"could not have\",\n",
    "\"didn't\": \"did not\",\n",
    "\"doesn't\": \"does not\",\n",
    "\"don't\": \"do not\",\n",
    "\"hadn't\": \"had not\",\n",
    "\"hadn't've\": \"had not have\",\n",
    "\"hasn't\": \"has not\",\n",
    "\"haven't\": \"have not\",\n",
    "\"he'd\": \"he would\",\n",
    "\"he'd've\": \"he would have\",\n",
    "\"he'll\": \"he will\",\n",
    "\"he's\": \"he is\",\n",
    "\"how'd\": \"how did\",\n",
    "\"how'll\": \"how will\",\n",
    "\"how's\": \"how is\",\n",
    "\"i'd\": \"i would\",\n",
    "\"i'll\": \"i will\",\n",
    "\"i'm\": \"i am\",\n",
    "\"i've\": \"i have\",\n",
    "\"isn't\": \"is not\",\n",
    "\"it'd\": \"it would\",\n",
    "\"it'll\": \"it will\",\n",
    "\"it's\": \"it is\",\n",
    "\"let's\": \"let us\",\n",
    "\"ma'am\": \"madam\",\n",
    "\"mayn't\": \"may not\",\n",
    "\"might've\": \"might have\",\n",
    "\"mightn't\": \"might not\",\n",
    "\"must've\": \"must have\",\n",
    "\"mustn't\": \"must not\",\n",
    "\"needn't\": \"need not\",\n",
    "\"oughtn't\": \"ought not\",\n",
    "\"shan't\": \"shall not\",\n",
    "\"sha'n't\": \"shall not\",\n",
    "\"she'd\": \"she would\",\n",
    "\"she'll\": \"she will\",\n",
    "\"she's\": \"she is\",\n",
    "\"should've\": \"should have\",\n",
    "\"shouldn't\": \"should not\",\n",
    "\"that'd\": \"that would\",\n",
    "\"that's\": \"that is\",\n",
    "\"there'd\": \"there had\",\n",
    "\"there's\": \"there is\",\n",
    "\"they'd\": \"they would\",\n",
    "\"they'll\": \"they will\",\n",
    "\"they're\": \"they are\",\n",
    "\"they've\": \"they have\",\n",
    "\"wasn't\": \"was not\",\n",
    "\"we'd\": \"we would\",\n",
    "\"we'll\": \"we will\",\n",
    "\"we're\": \"we are\",\n",
    "\"we've\": \"we have\",\n",
    "\"weren't\": \"were not\",\n",
    "\"what'll\": \"what will\",\n",
    "\"what're\": \"what are\",\n",
    "\"what's\": \"what is\",\n",
    "\"what've\": \"what have\",\n",
    "\"where'd\": \"where did\",\n",
    "\"where's\": \"where is\",\n",
    "\"who'll\": \"who will\",\n",
    "\"who's\": \"who is\",\n",
    "\"won't\": \"will not\",\n",
    "\"wouldn't\": \"would not\",\n",
    "\"you'd\": \"you would\",\n",
    "\"you'll\": \"you will\",\n",
    "\"you're\": \"you are\"\n",
    "}\n",
    "\n",
    "\n",
    "def clean_text(text,remove_stopwords = True):\n",
    "    '''\n",
    "    Given a text this function removes the punctuations, selected stopwords(because not, none convey some meaning and\n",
    "    removing these stop words changes the meaning of the sentence.) and returns the length of the remaining text string\n",
    "    '''\n",
    "    refined_stop_words = {}\n",
    "    if(remove_stopwords == True):\n",
    "        refined_stop_words = stop_words.ENGLISH_STOP_WORDS-{ \"not\",\"none\",\"nothing\",\"nowhere\",\"never\",\n",
    "                                                        \"cannot\",\"cant\",\"couldnt\",\"except\",\"hasnt\",\n",
    "                                                        \"neither\",\"no\",\"nobody\",\"nor\",\"without\"\n",
    "                                                           }\n",
    "    try:\n",
    "        #convert to lower case and strip regex\n",
    "        new_text = \"\"\n",
    "        text = text.lower()\n",
    "        for word in text.split():\n",
    "            if word in refined_stop_words:\n",
    "                continue\n",
    "            if word in contractions:\n",
    "                new_text = new_text + \" \" + (contractions[word])\n",
    "            else: \n",
    "                new_text = new_text + \" \" + word\n",
    "        text = new_text\n",
    "        regex = re.compile('[' + re.escape(string.punctuation) + '\\\\r\\\\t\\\\n]')\n",
    "        text = regex.sub(\" \", text)\n",
    "        text = re.sub('CNN', ' ', text)\n",
    "        text = re.sub('\\s+', ' ', text).strip()\n",
    "        return text\n",
    "    except:\n",
    "        return \"\""
   ]
  },
  {
   "cell_type": "code",
   "execution_count": 8,
   "metadata": {},
   "outputs": [],
   "source": [
    "kindle_reviews['summary'] = kindle_reviews.summary.apply(lambda x: clean_text(x, ))\n",
    "kindle_reviews['review'] = kindle_reviews.review.apply(lambda x: clean_text(x))"
   ]
  },
  {
   "cell_type": "code",
   "execution_count": 9,
   "metadata": {},
   "outputs": [],
   "source": [
    "kindle_reviews['summary_length'] = kindle_reviews.summary.apply(lambda x: len(x.split()))\n",
    "kindle_reviews['review_length'] = kindle_reviews.review.apply(lambda x: len(x.split()))"
   ]
  },
  {
   "cell_type": "code",
   "execution_count": 10,
   "metadata": {},
   "outputs": [
    {
     "data": {
      "text/plain": [
       "count    982619.000000\n",
       "mean         56.930118\n",
       "std          69.306447\n",
       "min           0.000000\n",
       "25%          17.000000\n",
       "50%          31.000000\n",
       "75%          67.000000\n",
       "max        2291.000000\n",
       "Name: review_length, dtype: float64"
      ]
     },
     "execution_count": 10,
     "metadata": {},
     "output_type": "execute_result"
    }
   ],
   "source": [
    "kindle_reviews.review_length.describe()"
   ]
  },
  {
   "cell_type": "code",
   "execution_count": 11,
   "metadata": {},
   "outputs": [
    {
     "data": {
      "text/plain": [
       "count    982619.000000\n",
       "mean          2.784196\n",
       "std           1.725640\n",
       "min           0.000000\n",
       "25%           2.000000\n",
       "50%           2.000000\n",
       "75%           3.000000\n",
       "max          37.000000\n",
       "Name: summary_length, dtype: float64"
      ]
     },
     "execution_count": 11,
     "metadata": {},
     "output_type": "execute_result"
    }
   ],
   "source": [
    "kindle_reviews.summary_length.describe()"
   ]
  },
  {
   "cell_type": "code",
   "execution_count": 12,
   "metadata": {},
   "outputs": [],
   "source": [
    "#Costants all\n",
    "RNN_VOCAB = 10000\n",
    "MAX_SEQUENCE_REVIEW_LENGTH = 25\n",
    "MAX_SEQUENCE_SUMMARY_LENGTH = 9\n",
    "EMBEDDING_DIM = 50\n",
    "EMBEDDING_FILE_PATH = \"../input/glove-global-vectors-for-word-representation/glove.6B.\"+str(EMBEDDING_DIM)+\"d.txt\"\n",
    "LATENT_DIM = EMBEDDING_DIM\n",
    "tokens = ['EOS', 'BOS']\n",
    "INDEX_T = RNN_VOCAB+2\n",
    "DATASET_SIZE = 40000"
   ]
  },
  {
   "cell_type": "code",
   "execution_count": 13,
   "metadata": {},
   "outputs": [],
   "source": [
    "kindle_reviews = kindle_reviews.loc[(kindle_reviews.review_length<=MAX_SEQUENCE_REVIEW_LENGTH) & (kindle_reviews.review_length>=10) & (kindle_reviews.summary_length>3) & (kindle_reviews.summary_length<=MAX_SEQUENCE_SUMMARY_LENGTH-2) ]"
   ]
  },
  {
   "cell_type": "code",
   "execution_count": 14,
   "metadata": {},
   "outputs": [
    {
     "data": {
      "text/plain": [
       "count    49985.000000\n",
       "mean         4.629149\n",
       "std          0.878577\n",
       "min          4.000000\n",
       "25%          4.000000\n",
       "50%          4.000000\n",
       "75%          5.000000\n",
       "max          7.000000\n",
       "Name: summary_length, dtype: float64"
      ]
     },
     "execution_count": 14,
     "metadata": {},
     "output_type": "execute_result"
    }
   ],
   "source": [
    "kindle_reviews['summary_length'].describe()"
   ]
  },
  {
   "cell_type": "code",
   "execution_count": 15,
   "metadata": {},
   "outputs": [
    {
     "data": {
      "text/plain": [
       "count    49985.000000\n",
       "mean        17.533160\n",
       "std          4.424578\n",
       "min         10.000000\n",
       "25%         14.000000\n",
       "50%         17.000000\n",
       "75%         21.000000\n",
       "max         25.000000\n",
       "Name: review_length, dtype: float64"
      ]
     },
     "execution_count": 15,
     "metadata": {},
     "output_type": "execute_result"
    }
   ],
   "source": [
    "kindle_reviews.review_length.describe()"
   ]
  },
  {
   "cell_type": "markdown",
   "metadata": {},
   "source": [
    "Dataset is fairly large for the available processing time\n",
    "\n",
    "1. Thus we will use shorter reviews, 25% of the reviews have length <=105\n",
    "2. We will also drop reviews having summary length less than 2\n"
   ]
  },
  {
   "cell_type": "code",
   "execution_count": 16,
   "metadata": {},
   "outputs": [
    {
     "data": {
      "text/plain": [
       "(49985, 4)"
      ]
     },
     "execution_count": 16,
     "metadata": {},
     "output_type": "execute_result"
    }
   ],
   "source": [
    "kindle_reviews.shape\n"
   ]
  },
  {
   "cell_type": "code",
   "execution_count": 17,
   "metadata": {},
   "outputs": [
    {
     "data": {
      "text/plain": [
       "<matplotlib.axes._subplots.AxesSubplot at 0x7f6fe22f40b8>"
      ]
     },
     "execution_count": 17,
     "metadata": {},
     "output_type": "execute_result"
    },
    {
     "data": {
      "image/png": "[encoded data removed]",
      "text/plain": [
       "<Figure size 432x288 with 1 Axes>"
      ]
     },
     "metadata": {},
     "output_type": "display_data"
    }
   ],
   "source": [
    "kindle_reviews['summary_length'].hist()\n",
    "kindle_reviews['review_length'].hist()"
   ]
  },
  {
   "cell_type": "code",
   "execution_count": 18,
   "metadata": {},
   "outputs": [
    {
     "data": {
      "text/html": [
       "<div>\n",
       "<style scoped>\n",
       "    .dataframe tbody tr th:only-of-type {\n",
       "        vertical-align: middle;\n",
       "    }\n",
       "\n",
       "    .dataframe tbody tr th {\n",
       "        vertical-align: top;\n",
       "    }\n",
       "\n",
       "    .dataframe thead th {\n",
       "        text-align: right;\n",
       "    }\n",
       "</style>\n",
       "<table border=\"1\" class=\"dataframe\">\n",
       "  <thead>\n",
       "    <tr style=\"text-align: right;\">\n",
       "      <th></th>\n",
       "      <th>review</th>\n",
       "      <th>summary</th>\n",
       "      <th>summary_length</th>\n",
       "      <th>review_length</th>\n",
       "    </tr>\n",
       "    <tr>\n",
       "      <th>index</th>\n",
       "      <th></th>\n",
       "      <th></th>\n",
       "      <th></th>\n",
       "      <th></th>\n",
       "    </tr>\n",
       "  </thead>\n",
       "  <tbody>\n",
       "    <tr>\n",
       "      <th>6</th>\n",
       "      <td>enjoyed tho i am not sure it is called amy brewster mystery she is not much clean written characters drawn</td>\n",
       "      <td>nice old fashioned story</td>\n",
       "      <td>4</td>\n",
       "      <td>20</td>\n",
       "    </tr>\n",
       "    <tr>\n",
       "      <th>17</th>\n",
       "      <td>written ebook troy denning is not balance point written belongs new jedi order just do not think stand alone fun fast read kindle not paperback</td>\n",
       "      <td>star wars new jedi order recovery</td>\n",
       "      <td>6</td>\n",
       "      <td>25</td>\n",
       "    </tr>\n",
       "    <tr>\n",
       "      <th>20</th>\n",
       "      <td>excellent written story exciting lots action bad guys trying kill leia han viki shesh introduced</td>\n",
       "      <td>fits right new jedi order timeline</td>\n",
       "      <td>6</td>\n",
       "      <td>15</td>\n",
       "    </tr>\n",
       "    <tr>\n",
       "      <th>40</th>\n",
       "      <td>ebook reads kindle really does not belong is maybe end dark nest trilogy legacy force just not place belongs star wars universe not me</td>\n",
       "      <td>star wars fool s bargain</td>\n",
       "      <td>5</td>\n",
       "      <td>24</td>\n",
       "    </tr>\n",
       "    <tr>\n",
       "      <th>57</th>\n",
       "      <td>like louis l amour s books no exception want 6 words words words words words words words</td>\n",
       "      <td>good l l read</td>\n",
       "      <td>4</td>\n",
       "      <td>17</td>\n",
       "    </tr>\n",
       "  </tbody>\n",
       "</table>\n",
       "</div>"
      ],
      "text/plain": [
       "                                                                                                                                                review      ...      review_length\n",
       "index                                                                                                                                                       ...                   \n",
       "6                                           enjoyed tho i am not sure it is called amy brewster mystery she is not much clean written characters drawn      ...                 20\n",
       "17     written ebook troy denning is not balance point written belongs new jedi order just do not think stand alone fun fast read kindle not paperback      ...                 25\n",
       "20                                                    excellent written story exciting lots action bad guys trying kill leia han viki shesh introduced      ...                 15\n",
       "40              ebook reads kindle really does not belong is maybe end dark nest trilogy legacy force just not place belongs star wars universe not me      ...                 24\n",
       "57                                                            like louis l amour s books no exception want 6 words words words words words words words      ...                 17\n",
       "\n",
       "[5 rows x 4 columns]"
      ]
     },
     "execution_count": 18,
     "metadata": {},
     "output_type": "execute_result"
    }
   ],
   "source": [
    "kindle_reviews.head()"
   ]
  },
  {
   "cell_type": "code",
   "execution_count": 19,
   "metadata": {},
   "outputs": [
    {
     "data": {
      "text/plain": [
       "count    49985.000000\n",
       "mean        17.533160\n",
       "std          4.424578\n",
       "min         10.000000\n",
       "25%         14.000000\n",
       "50%         17.000000\n",
       "75%         21.000000\n",
       "max         25.000000\n",
       "Name: review_length, dtype: float64"
      ]
     },
     "execution_count": 19,
     "metadata": {},
     "output_type": "execute_result"
    }
   ],
   "source": [
    "kindle_reviews.review_length.describe()"
   ]
  },
  {
   "cell_type": "code",
   "execution_count": 20,
   "metadata": {},
   "outputs": [],
   "source": [
    "tokenize = Tokenizer(num_words = RNN_VOCAB, oov_token='OOV')\n",
    "tokenize.fit_on_texts(np.hstack([kindle_reviews['summary'],kindle_reviews['review']]))\n",
    "kindle_reviews['sequence_summary'] = tokenize.texts_to_sequences(kindle_reviews['summary'])\n",
    "kindle_reviews['sequence_review'] = tokenize.texts_to_sequences(kindle_reviews['review'])"
   ]
  },
  {
   "cell_type": "code",
   "execution_count": 21,
   "metadata": {},
   "outputs": [],
   "source": []
  },
  {
   "cell_type": "code",
   "execution_count": 21,
   "metadata": {},
   "outputs": [],
   "source": [
    "#reviews = kindle_reviews.loc[kindle_reviews['sequence_summary'].apply(lambda x: not(1 in x))]"
   ]
  },
  {
   "cell_type": "code",
   "execution_count": 22,
   "metadata": {},
   "outputs": [
    {
     "ename": "NameError",
     "evalue": "name 'reviews' is not defined",
     "output_type": "error",
     "traceback": [
      "\u001b[0;31m---------------------------------------------------------------------------\u001b[0m",
      "\u001b[0;31mNameError\u001b[0m                                 Traceback (most recent call last)",
      "\u001b[0;32m<ipython-input-22-2ffc5f91244f>\u001b[0m in \u001b[0;36m<module>\u001b[0;34m()\u001b[0m\n\u001b[0;32m----> 1\u001b[0;31m \u001b[0mreviews\u001b[0m\u001b[0;34m.\u001b[0m\u001b[0mshape\u001b[0m\u001b[0;34m\u001b[0m\u001b[0m\n\u001b[0m",
      "\u001b[0;31mNameError\u001b[0m: name 'reviews' is not defined"
     ]
    }
   ],
   "source": [
    "reviews.shape"
   ]
  },
  {
   "cell_type": "code",
   "execution_count": 23,
   "metadata": {},
   "outputs": [],
   "source": [
    "#reviews = kindle_reviews.loc[kindle_reviews['sequence_review'].apply(lambda x: not(1 in x))]"
   ]
  },
  {
   "cell_type": "code",
   "execution_count": 24,
   "metadata": {},
   "outputs": [
    {
     "data": {
      "text/plain": [
       "(49985, 6)"
      ]
     },
     "execution_count": 24,
     "metadata": {},
     "output_type": "execute_result"
    }
   ],
   "source": [
    "kindle_reviews.shape"
   ]
  },
  {
   "cell_type": "code",
   "execution_count": 25,
   "metadata": {},
   "outputs": [],
   "source": [
    "kindle_reviews = kindle_reviews.head(DATASET_SIZE)"
   ]
  },
  {
   "cell_type": "code",
   "execution_count": 26,
   "metadata": {},
   "outputs": [
    {
     "data": {
      "text/plain": [
       "(40000, 6)"
      ]
     },
     "execution_count": 26,
     "metadata": {},
     "output_type": "execute_result"
    }
   ],
   "source": [
    "kindle_reviews.shape"
   ]
  },
  {
   "cell_type": "code",
   "execution_count": 27,
   "metadata": {},
   "outputs": [],
   "source": [
    "tokenize.word_index['EOS'] = RNN_VOCAB+2   #End of the sentence token\n",
    "tokenize.word_index['SOS'] = RNN_VOCAB+1   #Start of the sentence token"
   ]
  },
  {
   "cell_type": "code",
   "execution_count": 28,
   "metadata": {},
   "outputs": [],
   "source": [
    "kindle_reviews['sequence_summary'] += [tokenize.word_index['EOS']]\n",
    "\n",
    "#Decoder input is one timestep ahead of decoder oupput \n",
    "kindle_reviews['sequence_summary_decoder_input'] = [tokenize.word_index['SOS']] + kindle_reviews['sequence_summary']"
   ]
  },
  {
   "cell_type": "code",
   "execution_count": 29,
   "metadata": {},
   "outputs": [],
   "source": [
    "dataset = {}\n",
    "dataset['decoder_input'] = pad_sequences(kindle_reviews.sequence_summary, maxlen = MAX_SEQUENCE_SUMMARY_LENGTH, padding='post')\n",
    "dataset['decoder_output'] = pad_sequences(kindle_reviews.sequence_summary_decoder_input, maxlen = MAX_SEQUENCE_SUMMARY_LENGTH-1, padding='post')\n",
    "dataset['encoder_input'] = pad_sequences(kindle_reviews.sequence_review, maxlen = MAX_SEQUENCE_REVIEW_LENGTH, padding='pre')"
   ]
  },
  {
   "cell_type": "code",
   "execution_count": 30,
   "metadata": {},
   "outputs": [
    {
     "data": {
      "text/plain": [
       "(40000, 9)"
      ]
     },
     "execution_count": 30,
     "metadata": {},
     "output_type": "execute_result"
    }
   ],
   "source": [
    "dataset['decoder_input'].shape"
   ]
  },
  {
   "cell_type": "code",
   "execution_count": 31,
   "metadata": {},
   "outputs": [
    {
     "data": {
      "text/plain": [
       "(40000, 8)"
      ]
     },
     "execution_count": 31,
     "metadata": {},
     "output_type": "execute_result"
    }
   ],
   "source": [
    "dataset['decoder_output'].shape"
   ]
  },
  {
   "cell_type": "code",
   "execution_count": 32,
   "metadata": {},
   "outputs": [
    {
     "data": {
      "text/plain": [
       "(40000, 25)"
      ]
     },
     "execution_count": 32,
     "metadata": {},
     "output_type": "execute_result"
    }
   ],
   "source": [
    "dataset['encoder_input'].shape"
   ]
  },
  {
   "cell_type": "code",
   "execution_count": 33,
   "metadata": {},
   "outputs": [],
   "source": [
    "# Decoder output will be one hot encoded values \n",
    "# dimensions of the decoder output will be (number of samples * summary length * vocab size)\n",
    "\n",
    "decoder_target_output = np.zeros((DATASET_SIZE, MAX_SEQUENCE_SUMMARY_LENGTH, RNN_VOCAB+3), dtype = 'float16')\n",
    "for k, row in enumerate(dataset['decoder_output']):\n",
    "    for i,value in enumerate(row):\n",
    "        if value!=0:\n",
    "            decoder_target_output[k,i,value] = 1"
   ]
  },
  {
   "cell_type": "code",
   "execution_count": 34,
   "metadata": {},
   "outputs": [
    {
     "data": {
      "text/plain": [
       "(array([0, 0, 0, 0, 0, 0, 1, 1, 1, 1, 1, 1, 1, 1]),\n",
       " array([0, 1, 2, 3, 4, 5, 0, 1, 2, 3, 4, 5, 6, 7]),\n",
       " array([10001,    44,   123,  1445,     4, 10002, 10001,   249,  1997,\n",
       "           36,  9873,   258,  4709, 10002]))"
      ]
     },
     "execution_count": 34,
     "metadata": {},
     "output_type": "execute_result"
    }
   ],
   "source": [
    "np.nonzero(decoder_target_output[0:2, : ,0:10003])"
   ]
  },
  {
   "cell_type": "code",
   "execution_count": 35,
   "metadata": {},
   "outputs": [],
   "source": [
    "class Embeddings:\n",
    "    \"\"\"\n",
    "    When a corpus is passed, remove the words which are not in the global vocab(glove) and use most frequent vocab_size\n",
    "    number of words. \n",
    "    \"\"\"\n",
    "    def __init__(self, embedding_dim, vocab_size):\n",
    "        self.embedding_dim = embedding_dim\n",
    "        self.vocab_size = vocab_size\n",
    "        \n",
    "    def readEmbeddings(self, filePath):\n",
    "        \"\"\"\n",
    "        Given a filepath of word embeddings creates and returns a dictionary of word, embedding values\n",
    "        \"\"\"\n",
    "        # Create a dictionary for storing all {word, embedding values}\n",
    "        wordToEmbeddingDict = {}\n",
    "        # open the file as read only\n",
    "        file = open(filePath, encoding='utf-8')\n",
    "        # read all text\n",
    "        for line in file:\n",
    "            lineValue = line.split()\n",
    "            word = lineValue[0]\n",
    "            embedding = np.asarray(lineValue[1:],dtype = 'float32')\n",
    "            wordToEmbeddingDict[word] = embedding\n",
    "        # close the file\n",
    "        file.close()\n",
    "        return wordToEmbeddingDict\n",
    "    \n",
    "    def indexToEmbedding(self, wordToIndexDict, wordToEmbeddingDict):\n",
    "        indexToEmbeddingMatrix = np.zeros((self.vocab_size+3, self.embedding_dim))\n",
    "        for word, index in wordToIndexDict.items():\n",
    "            if index > self.vocab_size+2:\n",
    "                break\n",
    "            if word in wordToEmbeddingDict.keys():\n",
    "                indexToEmbeddingMatrix[index] = wordToEmbeddingDict[word]\n",
    "            else:\n",
    "                indexToEmbeddingMatrix[index] = np.array(np.random.uniform(-1.0, 1.0, self.embedding_dim))\n",
    "        return indexToEmbeddingMatrix\n",
    "    \n",
    "    def indexToWord(self, wordToIndexDict):\n",
    "        return {index: word for word, index in wordToIndexDict.items()}"
   ]
  },
  {
   "cell_type": "code",
   "execution_count": 36,
   "metadata": {},
   "outputs": [],
   "source": [
    "embeddings = Embeddings(EMBEDDING_DIM, RNN_VOCAB)\n",
    "wordToEmbeddingDict = embeddings.readEmbeddings(EMBEDDING_FILE_PATH)\n",
    "\n",
    "indexToEmbeddingMatrix = embeddings.indexToEmbedding(tokenize.word_index, wordToEmbeddingDict)"
   ]
  },
  {
   "cell_type": "code",
   "execution_count": 37,
   "metadata": {},
   "outputs": [],
   "source": [
    "indexToWordDict = embeddings.indexToWord(tokenize.word_index)"
   ]
  },
  {
   "cell_type": "code",
   "execution_count": 38,
   "metadata": {},
   "outputs": [
    {
     "data": {
      "text/plain": [
       "(10003, 50)"
      ]
     },
     "execution_count": 38,
     "metadata": {},
     "output_type": "execute_result"
    }
   ],
   "source": [
    "indexToEmbeddingMatrix.shape"
   ]
  },
  {
   "cell_type": "code",
   "execution_count": 39,
   "metadata": {},
   "outputs": [],
   "source": [
    "from keras import optimizers"
   ]
  },
  {
   "cell_type": "code",
   "execution_count": 40,
   "metadata": {},
   "outputs": [
    {
     "name": "stdout",
     "output_type": "stream",
     "text": [
      "WARNING:tensorflow:From /opt/conda/lib/python3.6/site-packages/tensorflow/python/framework/op_def_library.py:263: colocate_with (from tensorflow.python.framework.ops) is deprecated and will be removed in a future version.\n",
      "Instructions for updating:\n",
      "Colocations handled automatically by placer.\n"
     ]
    }
   ],
   "source": [
    "review_input_layer = Input(shape=(MAX_SEQUENCE_REVIEW_LENGTH, ), name = 'review')\n",
    "embedding_encoder_layer = Embedding(input_length = MAX_SEQUENCE_REVIEW_LENGTH,\n",
    "                        input_dim = RNN_VOCAB+3,\n",
    "                        output_dim = EMBEDDING_DIM,\n",
    "                        weights=[indexToEmbeddingMatrix],\n",
    "                        trainable=False,\n",
    "                        name = 'embedding_ENCODER')\n",
    "embedding_review_output = embedding_encoder_layer(review_input_layer)\n",
    "encoder_lstm_layer = LSTM(LATENT_DIM, return_state=True, name = 'lstm_encoder')\n",
    "_, state_h, state_c = encoder_lstm_layer(embedding_review_output)\n",
    "encoder_states = [state_h, state_c]\n",
    "\n",
    "summary_input_layer = Input(shape=(MAX_SEQUENCE_SUMMARY_LENGTH, ), name = 'summary')\n",
    "\n",
    "embedding_decoder_layer = Embedding(#input_length = MAX_SEQUENCE_SUMMARY_LENGTH,\n",
    "                        input_dim = RNN_VOCAB+3,\n",
    "                        output_dim = EMBEDDING_DIM,\n",
    "                        weights=[indexToEmbeddingMatrix],\n",
    "                        trainable=False,\n",
    "                        name = 'embedding_DECODER')\n",
    "embedding_summary_output = embedding_decoder_layer(summary_input_layer)\n",
    "decoder_lstm_layer = LSTM(LATENT_DIM, return_state=True, return_sequences = True, name = 'lstm_decoder')\n",
    "decoder_softmax_output, decoder_h, decoder_c = decoder_lstm_layer(embedding_summary_output,\n",
    "                                                   initial_state = encoder_states)\n",
    "decoder_dense_layer = Dense(RNN_VOCAB+3, activation=\"softmax\", name='decoder_dense_layer')\n",
    "decoder_dense_output =  decoder_dense_layer(decoder_softmax_output)\n",
    "model = Model([review_input_layer, summary_input_layer], decoder_dense_output) \n",
    "\n",
    "sgd = optimizers.RMSprop(lr=0.0001, rho=0.9, epsilon=None, decay=0.0)\n",
    "\n",
    "model.compile(optimizer='rmsprop', loss='categorical_crossentropy')"
   ]
  },
  {
   "cell_type": "code",
   "execution_count": 41,
   "metadata": {},
   "outputs": [],
   "source": [
    "from keras.utils.vis_utils import plot_model\n",
    "plot_model(model, to_file='model.png', show_shapes=True)"
   ]
  },
  {
   "cell_type": "code",
   "execution_count": 42,
   "metadata": {},
   "outputs": [
    {
     "data": {
      "image/png": "[encoded data removed]",
      "text/plain": [
       "<IPython.core.display.Image object>"
      ]
     },
     "execution_count": 42,
     "metadata": {},
     "output_type": "execute_result"
    }
   ],
   "source": [
    "from IPython.display import Image\n",
    "Image(filename='model.png') "
   ]
  },
  {
   "cell_type": "code",
   "execution_count": 43,
   "metadata": {},
   "outputs": [
    {
     "name": "stdout",
     "output_type": "stream",
     "text": [
      "WARNING:tensorflow:From /opt/conda/lib/python3.6/site-packages/tensorflow/python/ops/math_ops.py:3066: to_int32 (from tensorflow.python.ops.math_ops) is deprecated and will be removed in a future version.\n",
      "Instructions for updating:\n",
      "Use tf.cast instead.\n",
      "WARNING:tensorflow:From /opt/conda/lib/python3.6/site-packages/tensorflow/python/ops/math_grad.py:102: div (from tensorflow.python.ops.math_ops) is deprecated and will be removed in a future version.\n",
      "Instructions for updating:\n",
      "Deprecated in favor of operator or tf.math.divide.\n",
      "Epoch 1/10\n",
      "40000/40000 [==============================] - 50s 1ms/step - loss: 4.5511\n",
      "Epoch 2/10\n",
      "40000/40000 [==============================] - 47s 1ms/step - loss: 3.7454\n",
      "Epoch 3/10\n",
      "40000/40000 [==============================] - 47s 1ms/step - loss: 3.3549\n",
      "Epoch 4/10\n",
      "40000/40000 [==============================] - 47s 1ms/step - loss: 3.0757\n",
      "Epoch 5/10\n",
      "40000/40000 [==============================] - 47s 1ms/step - loss: 2.8292\n",
      "Epoch 6/10\n",
      "40000/40000 [==============================] - 47s 1ms/step - loss: 2.6019\n",
      "Epoch 7/10\n",
      "40000/40000 [==============================] - 47s 1ms/step - loss: 2.4078\n",
      "Epoch 8/10\n",
      "40000/40000 [==============================] - 47s 1ms/step - loss: 2.2426\n",
      "Epoch 9/10\n",
      "40000/40000 [==============================] - 47s 1ms/step - loss: 2.1029\n",
      "Epoch 10/10\n",
      "40000/40000 [==============================] - 47s 1ms/step - loss: 1.9820\n"
     ]
    },
    {
     "data": {
      "text/plain": [
       "<keras.callbacks.History at 0x7f6fdf250630>"
      ]
     },
     "execution_count": 43,
     "metadata": {},
     "output_type": "execute_result"
    }
   ],
   "source": [
    "model.fit([dataset['encoder_input'], dataset['decoder_input']], decoder_target_output,\n",
    "          batch_size=256,\n",
    "          epochs=10\n",
    "          )"
   ]
  },
  {
   "cell_type": "markdown",
   "metadata": {},
   "source": [
    "In the inference model, we need to keep in mind following few things\n",
    "\n",
    "First we will encode the sequence, the encoder's output is of no use thus it will be discarded, state_c and state_h will be used as initial state of decoder, same as training. \n",
    "\n",
    "Also decoder will receive one input of initial time step ('bos' token to get started)\n",
    "\n",
    "Decoder inputs : [encoder states , 'bos']\n",
    "\n",
    "1) decoder RNN will output one word at a time,(output dim :{ 1, 1, 10000}\n",
    "\n",
    "2) from argmax index to word mapping could be used to find the output word,\n",
    "\n",
    "For the next timestep we need the decoder's states as well as an output\n",
    "\n",
    "3) Next we need to provide our decoder with the decoder states and the output word again\n",
    "\n",
    "We need to encapsulate decoder in separate block, its input and output is because it is gonna run recursively\n"
   ]
  },
  {
   "cell_type": "code",
   "execution_count": 44,
   "metadata": {},
   "outputs": [],
   "source": []
  },
  {
   "cell_type": "code",
   "execution_count": 44,
   "metadata": {},
   "outputs": [
    {
     "data": {
      "image/png": "[encoded data removed]",
      "text/plain": [
       "<IPython.core.display.Image object>"
      ]
     },
     "execution_count": 44,
     "metadata": {},
     "output_type": "execute_result"
    }
   ],
   "source": [
    "# Define inference model\n",
    "encoder_inference_model = Model(review_input_layer, encoder_states)\n",
    "plot_model(encoder_inference_model, to_file='inference_encoder.png', show_shapes=True)\n",
    "\n",
    "Image(filename='inference_encoder.png') "
   ]
  },
  {
   "cell_type": "code",
   "execution_count": 45,
   "metadata": {},
   "outputs": [],
   "source": [
    "#Exactly same decoder model is used with different input and output adjustments\n",
    "\n",
    "decoder_state_input_h = Input(shape=(LATENT_DIM,))  # These states are required for feeding back to our next timestep decoder\n",
    "decoder_state_input_c = Input(shape=(LATENT_DIM,))\n",
    "decoder_states_inputs = [decoder_state_input_h, decoder_state_input_c]\n",
    "\n",
    "#Now we shall reuse our decoder\n",
    "summary_for_decoder = Input(shape=(1,))\n",
    "embedding_summary_decoder = embedding_decoder_layer(summary_for_decoder)\n",
    "\n",
    "decoder_inference_output, decoder_states_c, decoder_states_h = decoder_lstm_layer(embedding_summary_decoder, initial_state = decoder_states_inputs)\n",
    "decoder_states_outputs = [decoder_states_c, decoder_states_h]\n",
    "output_prob = decoder_dense_layer(decoder_inference_output)\n",
    "decoder_inference_model = Model(\n",
    "    [summary_for_decoder] + decoder_states_inputs,\n",
    "    decoder_states_outputs + [output_prob])"
   ]
  },
  {
   "cell_type": "code",
   "execution_count": 46,
   "metadata": {},
   "outputs": [
    {
     "data": {
      "image/png": "[encoded data removed]",
      "text/plain": [
       "<IPython.core.display.Image object>"
      ]
     },
     "execution_count": 46,
     "metadata": {},
     "output_type": "execute_result"
    }
   ],
   "source": [
    "plot_model(decoder_inference_model, to_file='inference_decoder.png', show_shapes=True)\n",
    "\n",
    "Image(filename='inference_decoder.png') "
   ]
  },
  {
   "cell_type": "code",
   "execution_count": 47,
   "metadata": {},
   "outputs": [],
   "source": [
    "import plotly.plotly as py\n",
    "import plotly.graph_objs as go\n",
    "import matplotlib.pyplot as plt\n",
    "\n",
    "\n",
    "def decode_sequence(input_sequence):\n",
    "    # Encode the input as state vectors. states_h and states_c for decoder init\n",
    "    encoder_states_value = encoder_inference_model.predict(input_sequence)\n",
    "    # Generate empty target sequence of length 1, for decoder input  \n",
    "        \n",
    "    # Populate the first character of target sequence with the start character.\n",
    "        \n",
    "    target_sequence = np.zeros((1,1))\n",
    "    target_sequence[0,0] = tokenize.word_index['SOS']\n",
    "    # Sampling loop for a batch of sequences\n",
    "    # (to simplify, here we assume a batch of size 1).\n",
    "    stop_condition = False\n",
    "    decoded_sentence = []\n",
    "   \n",
    "    while not stop_condition:\n",
    "      \n",
    "        h, c, output_tokens = decoder_inference_model.predict([target_sequence] + encoder_states_value,batch_size=1)\n",
    "        # Sample a token\n",
    "        \n",
    "        sampled_word_index = np.random.choice(np.arange(10003), p=output_tokens.flatten())\n",
    "        sampled_word = indexToWordDict[sampled_word_index]\n",
    "        decoded_sentence += [sampled_word]\n",
    "        \n",
    "        #n, bins, patches = plt.hist(output_tokens.flatten(),bins=100)\n",
    "        #plt.show()\n",
    "\n",
    "        #sampled_word_index = np.argmax(output_tokens)\n",
    "        #sampled_word = indexToWordDict[sampled_word_index]\n",
    "        #decoded_sentence += [sampled_word]\n",
    "        \n",
    "        # Exit condition: either hit max length\n",
    "        # or find stop character.\n",
    "        if (sampled_word == 'EOS' or\n",
    "           len(decoded_sentence) > MAX_SEQUENCE_SUMMARY_LENGTH):\n",
    "            stop_condition = True\n",
    "\n",
    "        # Update the target sequence (of length 1).\n",
    "            #target_sequence = np.zeros((1, 1, RNN_VOCAB+3))\n",
    "            #target_sequence[0, 0, sampled_word_index] = 1.\n",
    "            target_sequence[0, 0] = sampled_word_index\n",
    "        # Update states\n",
    "        encoder_states_value = [h, c]\n",
    "       \n",
    "\n",
    "    return decoded_sentence,"
   ]
  },
  {
   "cell_type": "code",
   "execution_count": 48,
   "metadata": {},
   "outputs": [],
   "source": [
    "#for seq_index in np.arange(10):\n",
    "    # Take one sequence (part of the training set)\n",
    "    # for trying out decoding.\n",
    "    # input_seq = pad_sequences(tokenize.texts_to_sequences([\"i loved the book very well written will read again\"]),17)\n",
    "    # decoded_sentence = decode_sequence(input_seq)\n",
    "    # print('-')\n",
    "    # print('Input sentence:')\n",
    "    # print('Decoded sentence:', decoded_sentence)"
   ]
  },
  {
   "cell_type": "markdown",
   "metadata": {},
   "source": []
  },
  {
   "cell_type": "markdown",
   "metadata": {},
   "source": [
    "## Try it !"
   ]
  },
  {
   "cell_type": "code",
   "execution_count": 49,
   "metadata": {},
   "outputs": [
    {
     "data": {
      "text/plain": [
       "(['SOS',\n",
       "  'porn',\n",
       "  'seattle',\n",
       "  'thirst',\n",
       "  'superb',\n",
       "  'crush',\n",
       "  'creek',\n",
       "  'glitches',\n",
       "  'wings',\n",
       "  'patchwork'],)"
      ]
     },
     "execution_count": 49,
     "metadata": {},
     "output_type": "execute_result"
    }
   ],
   "source": [
    "input_seq = pad_sequences(tokenize.texts_to_sequences([clean_text(\"i loved the book very well written will read again nice read\")]),25)\n",
    "input_seq\n",
    "decode_sequence(input_seq)"
   ]
  },
  {
   "cell_type": "code",
   "execution_count": 50,
   "metadata": {},
   "outputs": [
    {
     "data": {
      "text/plain": [
       "(['SOS',\n",
       "  'dane',\n",
       "  'dusty',\n",
       "  'easter',\n",
       "  'amish',\n",
       "  'soul',\n",
       "  'vivid',\n",
       "  'rhymes',\n",
       "  'families',\n",
       "  '9w'],)"
      ]
     },
     "execution_count": 50,
     "metadata": {},
     "output_type": "execute_result"
    }
   ],
   "source": [
    "input_seq = pad_sequences(tokenize.texts_to_sequences([clean_text(\"very very very bad book\")]),25)\n",
    "decode_sequence(input_seq)"
   ]
  },
  {
   "cell_type": "code",
   "execution_count": 51,
   "metadata": {},
   "outputs": [
    {
     "data": {
      "text/plain": [
       "(['SOS',\n",
       "  'amish',\n",
       "  'speak',\n",
       "  'emma',\n",
       "  'kindle',\n",
       "  'christmas',\n",
       "  'nutrition',\n",
       "  'fireman',\n",
       "  'spear',\n",
       "  'sheep'],)"
      ]
     },
     "execution_count": 51,
     "metadata": {},
     "output_type": "execute_result"
    }
   ],
   "source": [
    "input_seq = pad_sequences(tokenize.texts_to_sequences([clean_text(\"very very very very very very very very bad book\")]),25)\n",
    "decode_sequence(input_seq)"
   ]
  },
  {
   "cell_type": "code",
   "execution_count": 52,
   "metadata": {},
   "outputs": [],
   "source": [
    "# 1. try cudnn lstm\n",
    "# 2. attention\n",
    "# 3. beam search"
   ]
  },
  {
   "cell_type": "code",
   "execution_count": 53,
   "metadata": {},
   "outputs": [],
   "source": []
  },
  {
   "cell_type": "code",
   "execution_count": 53,
   "metadata": {},
   "outputs": [],
   "source": []
  }
 ],
 "metadata": {
  "kernelspec": {
   "display_name": "Python 3",
   "language": "python",
   "name": "python3"
  },
  "language_info": {
   "codemirror_mode": {
    "name": "ipython",
    "version": 3
   },
   "file_extension": ".py",
   "mimetype": "text/x-python",
   "name": "python",
   "nbconvert_exporter": "python",
   "pygments_lexer": "ipython3",
   "version": "3.6.4"
  }
 },
 "nbformat": 4,
 "nbformat_minor": 1
}
