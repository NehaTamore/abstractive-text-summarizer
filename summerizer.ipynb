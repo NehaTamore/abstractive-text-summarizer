{
 "cells": [
  {
   "cell_type": "markdown",
   "metadata": {},
   "source": [
    "## Table of contents\n",
    "\n",
    "1. [The problem domain](#The-problem-domain)\n",
    "2. [Model architecture](#Model-architecture)\n",
    "3. [Exploration](#Exploration)\n",
    "4. [Text preprocessing](#Text-preprocessing)\n",
    "5. [Define Input output to the model](#Define-Input-output-to-the-model)\n",
    "6. [Embeddings](#Embeddings)\n",
    "7. [Define the model](#Define-the-model)\n",
    "8. [Train the model](#Train-the-model)\n",
    "9. [Define Inference model](#Define-Inference-model)\n",
    "10. [Try it](#Try-it)\n",
    "11. [The most important part](#The-most-important-part)\n",
    "12. [Further Improvements](#Further-Improvements)\n"
   ]
  },
  {
   "cell_type": "markdown",
   "metadata": {},
   "source": [
    "## The problem domain ##\n",
    "[[ go back to the top ]](#Table-of-contents)\n",
    "\n",
    "In the modern Internet age, textual data is ever increasing. Need some way to condense this data\n",
    "while preserving the information and meaning.We need to summarize textual data for that. Text\n",
    "summarization is the process of automatically generating natural language summaries from an input\n",
    "document while retaining the important points. It would help in easy and fast retrieval of information.\n",
    "\n",
    "There are two prominent types of summarization algorithms.\n",
    "\n",
    "• Extractive summarization systems form summaries by copying parts of the source text\n",
    "through some measure of importance and then combine those part/sentences together to\n",
    "render a summary. Importance of sentence is based on linguistic and statistical features.\n",
    "\n",
    "• Abstractive summarization systems generate new phrases, possibly rephrasing or using\n",
    "words that were not in the original text. Naturally abstractive approaches are harder. For\n",
    "perfect abstractive summary, the model has to first truly understand the document and then\n",
    "try to express that understanding in short possibly using new words and phrases. Much\n",
    "harder than extractive. Has complex capabilities like generalization, paraphrasing and incorporating real-world knowledge.\n",
    "\n",
    "Majority of the work has traditionally focussed on extractive approaches due to the easy of defining\n",
    "hard-coded rules to select important sentences than generate new ones. Also, it promises grammatically correct and coherent summary. But too many rules to keep track of!! Where as an abstraction is an active area of research as they often don’t summarize long and complex texts well\n"
   ]
  },
  {
   "cell_type": "markdown",
   "metadata": {},
   "source": [
    "With models like BERT (https://arxiv.org/abs/1810.04805) and Tranformers (https://arxiv.org/abs/1706.03762) the quality of language generation models has improved many folds, which will be explored in the next notebook. But it's essential to understand the drawbacks of seq2seq model as a baseline to be able to appreciate the ideas of improvements in the later models and and thus I have tried it below! :)"
   ]
  },
  {
   "cell_type": "markdown",
   "metadata": {},
   "source": [
    " ## Model architecture ##\n",
    " [[ go back to the top ]](#Table-of-contents)\n",
    "\n",
    "The architecture implemented here is similar for the one used in translation cited by https://arxiv.org/pdf/1409.3215.pdf\n",
    "1. Glove embedding \n",
    "2. seq2seq encoder decoder architecture with LSTM layer.\n",
    "\n",
    "\n",
    "![Image of encoder-decoder architecture ](https://cdn-images-1.medium.com/max/2560/1*nYptRUTtVd9xUjwL-cVL3Q.png)\n"
   ]
  },
  {
   "cell_type": "code",
   "execution_count": 1,
   "metadata": {
    "_cell_guid": "b1076dfc-b9ad-4769-8c92-a6c4dae69d19",
    "_uuid": "8f2839f25d086af736a60e9eeb907d3b93b6e0e5"
   },
   "outputs": [
    {
     "name": "stdout",
     "output_type": "stream",
     "text": [
      "['kindle-reviews', 'glove-global-vectors-for-word-representation']\n"
     ]
    },
    {
     "name": "stderr",
     "output_type": "stream",
     "text": [
      "Using TensorFlow backend.\n"
     ]
    }
   ],
   "source": [
    "# This Python 3 environment comes with many helpful analytics libraries installed\n",
    "# It is defined by the kaggle/python docker image: https://github.com/kaggle/docker-python\n",
    "# For example, here's several helpful packages to load in \n",
    "import gc\n",
    "import numpy as np # linear algebra\n",
    "import pandas as pd # data processing, CSV file I/O (e.g. pd.read_csv)\n",
    "\n",
    "import os\n",
    "print(os.listdir(\"../input\"))\n",
    "import plotly.plotly as py\n",
    "import plotly.graph_objs as go\n",
    "import matplotlib.pyplot as plt\n",
    "\n",
    "from sklearn.feature_extraction import stop_words\n",
    "import re\n",
    "import string\n",
    "import numpy as np # linear algebra\n",
    "import pandas as pd # data processing, CSV file I/O (e.g. pd.read_csv)\n",
    "import os, sys, tarfile\n",
    "from sklearn.model_selection import train_test_split\n",
    "\n",
    "from IPython.display import Image\n",
    "\n",
    "from keras.utils.vis_utils import plot_model\n",
    "from keras.preprocessing.text import Tokenizer,text_to_word_sequence \n",
    "from keras.preprocessing.sequence import pad_sequences\n",
    "from keras.layers import Input,Dense, Activation, concatenate, Embedding, Flatten, CuDNNLSTM, Bidirectional, Concatenate\n",
    "from keras.models import Model\n",
    "from keras.callbacks import ModelCheckpoint, Callback, EarlyStopping\n",
    "from keras import backend as K\n",
    "from keras import optimizers\n"
   ]
  },
  {
   "cell_type": "markdown",
   "metadata": {},
   "source": [
    "For this problem, we are using kindle reviews dataset from kaggle. There are many other features of this dataset which might not be relevant to the problem at hand. The reviewText and summary are used here. The dataset contains approximately million datapoints for us to train model on."
   ]
  },
  {
   "cell_type": "markdown",
   "metadata": {},
   "source": [
    "## Exploration ##\n",
    "[[ go back to the top ]](#Table-of-contents)"
   ]
  },
  {
   "cell_type": "code",
   "execution_count": 2,
   "metadata": {
    "_cell_guid": "79c7e3d0-c299-4dcb-8224-4455121ee9b0",
    "_uuid": "d629ff2d2480ee46fbb7e2d37f6b5fab8052498a"
   },
   "outputs": [],
   "source": [
    "kindle_reviews = pd.read_csv('../input/kindle-reviews/kindle_reviews.csv')"
   ]
  },
  {
   "cell_type": "code",
   "execution_count": 3,
   "metadata": {},
   "outputs": [
    {
     "data": {
      "text/plain": [
       "(982619, 10)"
      ]
     },
     "execution_count": 3,
     "metadata": {},
     "output_type": "execute_result"
    }
   ],
   "source": [
    "kindle_reviews.shape"
   ]
  },
  {
   "cell_type": "code",
   "execution_count": 4,
   "metadata": {
    "collapsed": true
   },
   "outputs": [
    {
     "data": {
      "text/html": [
       "<div>\n",
       "<style scoped>\n",
       "    .dataframe tbody tr th:only-of-type {\n",
       "        vertical-align: middle;\n",
       "    }\n",
       "\n",
       "    .dataframe tbody tr th {\n",
       "        vertical-align: top;\n",
       "    }\n",
       "\n",
       "    .dataframe thead th {\n",
       "        text-align: right;\n",
       "    }\n",
       "</style>\n",
       "<table border=\"1\" class=\"dataframe\">\n",
       "  <thead>\n",
       "    <tr style=\"text-align: right;\">\n",
       "      <th></th>\n",
       "      <th>Unnamed: 0</th>\n",
       "      <th>asin</th>\n",
       "      <th>helpful</th>\n",
       "      <th>overall</th>\n",
       "      <th>reviewText</th>\n",
       "      <th>reviewTime</th>\n",
       "      <th>reviewerID</th>\n",
       "      <th>reviewerName</th>\n",
       "      <th>summary</th>\n",
       "      <th>unixReviewTime</th>\n",
       "    </tr>\n",
       "  </thead>\n",
       "  <tbody>\n",
       "    <tr>\n",
       "      <th>0</th>\n",
       "      <td>0</td>\n",
       "      <td>B000F83SZQ</td>\n",
       "      <td>[0, 0]</td>\n",
       "      <td>5</td>\n",
       "      <td>I enjoy vintage books and movies so I enjoyed ...</td>\n",
       "      <td>05 5, 2014</td>\n",
       "      <td>A1F6404F1VG29J</td>\n",
       "      <td>Avidreader</td>\n",
       "      <td>Nice vintage story</td>\n",
       "      <td>1399248000</td>\n",
       "    </tr>\n",
       "    <tr>\n",
       "      <th>1</th>\n",
       "      <td>1</td>\n",
       "      <td>B000F83SZQ</td>\n",
       "      <td>[2, 2]</td>\n",
       "      <td>4</td>\n",
       "      <td>This book is a reissue of an old one; the auth...</td>\n",
       "      <td>01 6, 2014</td>\n",
       "      <td>AN0N05A9LIJEQ</td>\n",
       "      <td>critters</td>\n",
       "      <td>Different...</td>\n",
       "      <td>1388966400</td>\n",
       "    </tr>\n",
       "    <tr>\n",
       "      <th>2</th>\n",
       "      <td>2</td>\n",
       "      <td>B000F83SZQ</td>\n",
       "      <td>[2, 2]</td>\n",
       "      <td>4</td>\n",
       "      <td>This was a fairly interesting read.  It had ol...</td>\n",
       "      <td>04 4, 2014</td>\n",
       "      <td>A795DMNCJILA6</td>\n",
       "      <td>dot</td>\n",
       "      <td>Oldie</td>\n",
       "      <td>1396569600</td>\n",
       "    </tr>\n",
       "    <tr>\n",
       "      <th>3</th>\n",
       "      <td>3</td>\n",
       "      <td>B000F83SZQ</td>\n",
       "      <td>[1, 1]</td>\n",
       "      <td>5</td>\n",
       "      <td>I'd never read any of the Amy Brewster mysteri...</td>\n",
       "      <td>02 19, 2014</td>\n",
       "      <td>A1FV0SX13TWVXQ</td>\n",
       "      <td>Elaine H. Turley \"Montana Songbird\"</td>\n",
       "      <td>I really liked it.</td>\n",
       "      <td>1392768000</td>\n",
       "    </tr>\n",
       "    <tr>\n",
       "      <th>4</th>\n",
       "      <td>4</td>\n",
       "      <td>B000F83SZQ</td>\n",
       "      <td>[0, 1]</td>\n",
       "      <td>4</td>\n",
       "      <td>If you like period pieces - clothing, lingo, y...</td>\n",
       "      <td>03 19, 2014</td>\n",
       "      <td>A3SPTOKDG7WBLN</td>\n",
       "      <td>Father Dowling Fan</td>\n",
       "      <td>Period Mystery</td>\n",
       "      <td>1395187200</td>\n",
       "    </tr>\n",
       "  </tbody>\n",
       "</table>\n",
       "</div>"
      ],
      "text/plain": [
       "   Unnamed: 0        asin       ...                   summary  unixReviewTime\n",
       "0           0  B000F83SZQ       ...        Nice vintage story      1399248000\n",
       "1           1  B000F83SZQ       ...              Different...      1388966400\n",
       "2           2  B000F83SZQ       ...                     Oldie      1396569600\n",
       "3           3  B000F83SZQ       ...        I really liked it.      1392768000\n",
       "4           4  B000F83SZQ       ...            Period Mystery      1395187200\n",
       "\n",
       "[5 rows x 10 columns]"
      ]
     },
     "execution_count": 4,
     "metadata": {},
     "output_type": "execute_result"
    }
   ],
   "source": [
    "kindle_reviews.head()"
   ]
  },
  {
   "cell_type": "code",
   "execution_count": 5,
   "metadata": {},
   "outputs": [],
   "source": [
    "# Reformatting the dataframe display\n",
    "\n",
    "pd.set_option('display.max_info_columns',1000)\n",
    "pd.set_option('display.max_colwidth',5000)\n",
    "kindle_reviews.drop(columns = ['asin', 'helpful', 'overall', 'reviewTime', 'reviewerID', 'reviewerName', 'unixReviewTime'],\n",
    "                    axis=1, inplace=True)\n",
    "kindle_reviews.columns = ['index','review', 'summary']\n",
    "kindle_reviews.set_index(keys = 'index',inplace=True)"
   ]
  },
  {
   "cell_type": "markdown",
   "metadata": {},
   "source": [
    "Length of the reviews and summary is essential to consider while deciding hyperparameters such as sequence length"
   ]
  },
  {
   "cell_type": "code",
   "execution_count": 6,
   "metadata": {},
   "outputs": [],
   "source": [
    "# All the model hyperparameters are defined here, considering appropriate percentile of review and summary lengths \n",
    "\n",
    "RNN_VOCAB = 10000                           # most frequent 15K words form the vocab \n",
    "MAX_SEQUENCE_REVIEW_LENGTH = 22             \n",
    "MAX_SEQUENCE_SUMMARY_LENGTH = 9\n",
    "EMBEDDING_DIM = 200                         \n",
    "EMBEDDING_FILE_PATH = \"../input/glove-global-vectors-for-word-representation/glove.6B.\" + str(EMBEDDING_DIM) + \"d.txt\"\n"
   ]
  },
  {
   "cell_type": "markdown",
   "metadata": {},
   "source": [
    "## Text preprocessing ##\n",
    "[[ go back to the top ]](#Table-of-contents)\n",
    "\n",
    "1. lowercasing\n",
    "2. stop words removal : a new dictionary of stop words is created to preserve the meaning of the original text\n",
    "3. contractions \n",
    "4. punctuations removal\n",
    "5. Unnecessary white space \n"
   ]
  },
  {
   "cell_type": "code",
   "execution_count": 7,
   "metadata": {},
   "outputs": [],
   "source": [
    "\n",
    "# A list of contractions from http://stackoverflow.com/questions/19790188/expanding-english-language-contractions-in-python\n",
    "contractions = { \n",
    "\"ain't\": \"am not\",\n",
    "\"aren't\": \"are not\",\n",
    "\"can't\": \"cannot\",\n",
    "\"can't've\": \"cannot have\",\n",
    "\"'cause\": \"because\",\n",
    "\"could've\": \"could have\",\n",
    "\"couldn't\": \"could not\",\n",
    "\"couldn't've\": \"could not have\",\n",
    "\"didn't\": \"did not\",\n",
    "\"doesn't\": \"does not\",\n",
    "\"don't\": \"do not\",\n",
    "\"hadn't\": \"had not\",\n",
    "\"hadn't've\": \"had not have\",\n",
    "\"hasn't\": \"has not\",\n",
    "\"haven't\": \"have not\",\n",
    "\"he'd\": \"he would\",\n",
    "\"he'd've\": \"he would have\",\n",
    "\"he'll\": \"he will\",\n",
    "\"he's\": \"he is\",\n",
    "\"how'd\": \"how did\",\n",
    "\"how'll\": \"how will\",\n",
    "\"how's\": \"how is\",\n",
    "\"i'd\": \"i would\",\n",
    "\"i'll\": \"i will\",\n",
    "\"i'm\": \"i am\",\n",
    "\"i've\": \"i have\",\n",
    "\"isn't\": \"is not\",\n",
    "\"it'd\": \"it would\",\n",
    "\"it'll\": \"it will\",\n",
    "\"it's\": \"it is\",\n",
    "\"let's\": \"let us\",\n",
    "\"ma'am\": \"madam\",\n",
    "\"mayn't\": \"may not\",\n",
    "\"might've\": \"might have\",\n",
    "\"mightn't\": \"might not\",\n",
    "\"must've\": \"must have\",\n",
    "\"mustn't\": \"must not\",\n",
    "\"needn't\": \"need not\",\n",
    "\"oughtn't\": \"ought not\",\n",
    "\"shan't\": \"shall not\",\n",
    "\"sha'n't\": \"shall not\",\n",
    "\"she'd\": \"she would\",\n",
    "\"she'll\": \"she will\",\n",
    "\"she's\": \"she is\",\n",
    "\"should've\": \"should have\",\n",
    "\"shouldn't\": \"should not\",\n",
    "\"that'd\": \"that would\",\n",
    "\"that's\": \"that is\",\n",
    "\"there'd\": \"there had\",\n",
    "\"there's\": \"there is\",\n",
    "\"they'd\": \"they would\",\n",
    "\"they'll\": \"they will\",\n",
    "\"they're\": \"they are\",\n",
    "\"they've\": \"they have\",\n",
    "\"wasn't\": \"was not\",\n",
    "\"we'd\": \"we would\",\n",
    "\"we'll\": \"we will\",\n",
    "\"we're\": \"we are\",\n",
    "\"we've\": \"we have\",\n",
    "\"weren't\": \"were not\",\n",
    "\"what'll\": \"what will\",\n",
    "\"what're\": \"what are\",\n",
    "\"what's\": \"what is\",\n",
    "\"what've\": \"what have\",\n",
    "\"where'd\": \"where did\",\n",
    "\"where's\": \"where is\",\n",
    "\"who'll\": \"who will\",\n",
    "\"who's\": \"who is\",\n",
    "\"won't\": \"will not\",\n",
    "\"wouldn't\": \"would not\",\n",
    "\"you'd\": \"you would\",\n",
    "\"you'll\": \"you will\",\n",
    "\"you're\": \"you are\"\n",
    "}\n",
    "\n",
    "\n",
    "def clean_text(text,remove_stopwords = True, max_len = 20):\n",
    "    '''\n",
    "    Given a text this function removes the punctuations, selected stopwords(because not, none convey some meaning and\n",
    "    removing these stop words changes the meaning of the sentence.) and returns the length of the remaining text string\n",
    "    '''\n",
    "    refined_stop_words = {}\n",
    "    if(remove_stopwords == True):\n",
    "        refined_stop_words = stop_words.ENGLISH_STOP_WORDS-{ \"not\",\"none\",\"nothing\",\"nowhere\",\"never\",\n",
    "                                                        \"cannot\",\"cant\",\"couldnt\",\"except\",\"hasnt\",\n",
    "                                                        \"neither\",\"no\",\"nobody\",\"nor\",\"without\"\n",
    "                                                           }\n",
    "    try:\n",
    "        #convert to lower case and strip regex\n",
    "        new_text = []\n",
    "        text = text.lower()\n",
    "        count = 0\n",
    "        for word in text.split():\n",
    "            if word in refined_stop_words:\n",
    "                continue\n",
    "            count += 1\n",
    "            if word in contractions: \n",
    "                new_text = new_text + [contractions[word]]\n",
    "            else: \n",
    "                new_text = new_text + [word]\n",
    "        new_text = new_text[0:max_len] if count>max_len else new_text\n",
    "        text = ' '.join(new_text)\n",
    "        regex = re.compile('[' + re.escape(string.punctuation) + '\\\\r\\\\t\\\\n]')\n",
    "        text = regex.sub(\" \", text)\n",
    "        text = re.sub('\\s+', ' ', text).strip()\n",
    "        text = '<start> ' + text + ' <end>'\n",
    "        return text\n",
    "    except:\n",
    "        return \"\""
   ]
  },
  {
   "cell_type": "code",
   "execution_count": 8,
   "metadata": {},
   "outputs": [],
   "source": [
    "kindle_reviews['summary'] = kindle_reviews.summary.apply(lambda x: clean_text(x, True, MAX_SEQUENCE_SUMMARY_LENGTH-2))\n",
    "kindle_reviews['review'] = kindle_reviews.review.apply(lambda x: clean_text(x, True, MAX_SEQUENCE_REVIEW_LENGTH-2))"
   ]
  },
  {
   "cell_type": "code",
   "execution_count": 9,
   "metadata": {},
   "outputs": [
    {
     "data": {
      "text/html": [
       "<div>\n",
       "<style scoped>\n",
       "    .dataframe tbody tr th:only-of-type {\n",
       "        vertical-align: middle;\n",
       "    }\n",
       "\n",
       "    .dataframe tbody tr th {\n",
       "        vertical-align: top;\n",
       "    }\n",
       "\n",
       "    .dataframe thead th {\n",
       "        text-align: right;\n",
       "    }\n",
       "</style>\n",
       "<table border=\"1\" class=\"dataframe\">\n",
       "  <thead>\n",
       "    <tr style=\"text-align: right;\">\n",
       "      <th></th>\n",
       "      <th>review</th>\n",
       "      <th>summary</th>\n",
       "    </tr>\n",
       "    <tr>\n",
       "      <th>index</th>\n",
       "      <th></th>\n",
       "      <th></th>\n",
       "    </tr>\n",
       "  </thead>\n",
       "  <tbody>\n",
       "    <tr>\n",
       "      <th>0</th>\n",
       "      <td>&lt;start&gt; enjoy vintage books movies enjoyed reading book plot unusual do not think killing self defense leaving scene body without notifying police hitting &lt;end&gt;</td>\n",
       "      <td>&lt;start&gt; nice vintage story &lt;end&gt;</td>\n",
       "    </tr>\n",
       "    <tr>\n",
       "      <th>1</th>\n",
       "      <td>&lt;start&gt; book reissue old one author born 1910 it is era of say nero wolfe introduction quite interesting explaining author he is forgotten &lt;end&gt;</td>\n",
       "      <td>&lt;start&gt; different &lt;end&gt;</td>\n",
       "    </tr>\n",
       "    <tr>\n",
       "      <th>2</th>\n",
       "      <td>&lt;start&gt; fairly interesting read old style terminology i glad read story does not coarse crasslanguage read fun relaxation i like free ebooksbecause check writer &lt;end&gt;</td>\n",
       "      <td>&lt;start&gt; oldie &lt;end&gt;</td>\n",
       "    </tr>\n",
       "    <tr>\n",
       "      <th>3</th>\n",
       "      <td>&lt;start&gt; i would never read amy brewster mysteries one really hooked now &lt;end&gt;</td>\n",
       "      <td>&lt;start&gt; really liked it &lt;end&gt;</td>\n",
       "    </tr>\n",
       "    <tr>\n",
       "      <th>4</th>\n",
       "      <td>&lt;start&gt; like period pieces clothing lingo enjoy mystery author guessing 2 3 way through &lt;end&gt;</td>\n",
       "      <td>&lt;start&gt; period mystery &lt;end&gt;</td>\n",
       "    </tr>\n",
       "  </tbody>\n",
       "</table>\n",
       "</div>"
      ],
      "text/plain": [
       "                                                                                                                                                                       review                           summary\n",
       "index                                                                                                                                                                                                          \n",
       "0            <start> enjoy vintage books movies enjoyed reading book plot unusual do not think killing self defense leaving scene body without notifying police hitting <end>  <start> nice vintage story <end>\n",
       "1                            <start> book reissue old one author born 1910 it is era of say nero wolfe introduction quite interesting explaining author he is forgotten <end>           <start> different <end>\n",
       "2      <start> fairly interesting read old style terminology i glad read story does not coarse crasslanguage read fun relaxation i like free ebooksbecause check writer <end>               <start> oldie <end>\n",
       "3                                                                                               <start> i would never read amy brewster mysteries one really hooked now <end>     <start> really liked it <end>\n",
       "4                                                                               <start> like period pieces clothing lingo enjoy mystery author guessing 2 3 way through <end>      <start> period mystery <end>"
      ]
     },
     "execution_count": 9,
     "metadata": {},
     "output_type": "execute_result"
    }
   ],
   "source": [
    "kindle_reviews.head()"
   ]
  },
  {
   "cell_type": "code",
   "execution_count": 10,
   "metadata": {},
   "outputs": [
    {
     "data": {
      "text/plain": [
       "(982619, 2)"
      ]
     },
     "execution_count": 10,
     "metadata": {},
     "output_type": "execute_result"
    }
   ],
   "source": [
    "kindle_reviews.shape"
   ]
  },
  {
   "cell_type": "code",
   "execution_count": 11,
   "metadata": {},
   "outputs": [],
   "source": [
    "kindle_reviews['summary_length'] = kindle_reviews.summary.apply(lambda x: len(x.split()))\n",
    "kindle_reviews['review_length'] = kindle_reviews.review.apply(lambda x: len(x.split()))"
   ]
  },
  {
   "cell_type": "code",
   "execution_count": 12,
   "metadata": {},
   "outputs": [
    {
     "name": "stdout",
     "output_type": "stream",
     "text": [
      "count    982619.000000\n",
      "mean         20.912209\n",
      "std           4.185922\n",
      "min           0.000000\n",
      "25%          19.000000\n",
      "50%          22.000000\n",
      "90%          25.000000\n",
      "95%          26.000000\n",
      "99%          28.000000\n",
      "max         161.000000\n",
      "Name: review_length, dtype: float64\n"
     ]
    },
    {
     "data": {
      "text/plain": [
       "<matplotlib.axes._subplots.AxesSubplot at 0x7ff9fe7ab0b8>"
      ]
     },
     "execution_count": 12,
     "metadata": {},
     "output_type": "execute_result"
    },
    {
     "data": {
      "image/png": "[encoded data removed]",
      "text/plain": [
       "<Figure size 1440x720 with 1 Axes>"
      ]
     },
     "metadata": {
      "needs_background": "light"
     },
     "output_type": "display_data"
    }
   ],
   "source": [
    "print(kindle_reviews.review_length.describe(percentiles = [0.25, 0.9, 0.95, 0.99]))\n",
    "kindle_reviews.review_length.hist(bins = 100,figsize = (20,10))"
   ]
  },
  {
   "cell_type": "code",
   "execution_count": 13,
   "metadata": {},
   "outputs": [
    {
     "name": "stdout",
     "output_type": "stream",
     "text": [
      "count    982619.000000\n",
      "mean          4.744101\n",
      "std           1.575008\n",
      "min           0.000000\n",
      "50%           4.000000\n",
      "90%           7.000000\n",
      "95%           8.000000\n",
      "99%           9.000000\n",
      "max          39.000000\n",
      "Name: summary_length, dtype: float64\n"
     ]
    },
    {
     "data": {
      "text/plain": [
       "<matplotlib.axes._subplots.AxesSubplot at 0x7ff9fe68e128>"
      ]
     },
     "execution_count": 13,
     "metadata": {},
     "output_type": "execute_result"
    },
    {
     "data": {
      "image/png": "[encoded data removed]",
      "text/plain": [
       "<Figure size 1440x720 with 1 Axes>"
      ]
     },
     "metadata": {
      "needs_background": "light"
     },
     "output_type": "display_data"
    }
   ],
   "source": [
    "print(kindle_reviews.summary_length.describe(percentiles = [0.9,0.95,0.99]))\n",
    "kindle_reviews.summary_length.hist(bins = 100,figsize = (20,10))"
   ]
  },
  {
   "cell_type": "markdown",
   "metadata": {},
   "source": [
    "## Define Input output to the model ## \n",
    "[[ go back to the top ]](#Table-of-contents)"
   ]
  },
  {
   "cell_type": "markdown",
   "metadata": {},
   "source": [
    "Dataset is fairly large for the available processing time. Thus we will be training in batches. "
   ]
  },
  {
   "cell_type": "markdown",
   "metadata": {},
   "source": [
    "Let's tokenize this data using keras tokenizer API "
   ]
  },
  {
   "cell_type": "code",
   "execution_count": 14,
   "metadata": {},
   "outputs": [],
   "source": [
    "tokenize = Tokenizer(num_words = RNN_VOCAB, oov_token='OOV', filters = '')\n",
    "tokenize.fit_on_texts(np.hstack([kindle_reviews['summary'],kindle_reviews['review']]))\n",
    "kindle_reviews['sequence_summary'] = tokenize.texts_to_sequences(kindle_reviews['summary'])\n",
    "kindle_reviews['sequence_review'] = tokenize.texts_to_sequences(kindle_reviews['review'])"
   ]
  },
  {
   "cell_type": "code",
   "execution_count": 15,
   "metadata": {},
   "outputs": [
    {
     "name": "stdout",
     "output_type": "stream",
     "text": [
      "Total number of unique words =  174016\n"
     ]
    }
   ],
   "source": [
    "print(\"Total number of unique words = \", len(tokenize.word_index))"
   ]
  },
  {
   "cell_type": "markdown",
   "metadata": {},
   "source": [
    "Although there are 291K unique words in the dataset, due to constraints we are using, the most frequent 10K words to form our vocab. In short, 174K tokens would be treated as unknown words and hence, many times our model will tend to be biased to generate UNK token just cause of it's sheer frequency in the dataset, considering it to be more probable.\n",
    "\n",
    "One way is to remove the samples having OOV token, which is commented below"
   ]
  },
  {
   "cell_type": "code",
   "execution_count": 16,
   "metadata": {},
   "outputs": [],
   "source": [
    "#reviews = kindle_reviews.loc[kindle_reviews['sequence_summary'].apply(lambda x: not(1 in x))]\n",
    "#reviews = kindle_reviews.loc[kindle_reviews['sequence_review'].apply(lambda x: not(1 in x))]"
   ]
  },
  {
   "cell_type": "markdown",
   "metadata": {},
   "source": [
    "The decoder input, should have a start and end token, and thus we add it to our vocab"
   ]
  },
  {
   "cell_type": "markdown",
   "metadata": {},
   "source": [
    "Every encoder, decoder input - summary is augmented with '<start\\>' and preceeded by '<end\\>' "
   ]
  },
  {
   "cell_type": "code",
   "execution_count": 17,
   "metadata": {},
   "outputs": [],
   "source": [
    "#craeting dataset for the model input output\n",
    "dataset = {}\n",
    "dataset['decoder_input'] = pad_sequences(kindle_reviews.sequence_summary, maxlen = MAX_SEQUENCE_SUMMARY_LENGTH, padding='post')\n",
    "kindle_reviews['sequence_summary'] = kindle_reviews.sequence_summary.apply(lambda x: x[1:])\n",
    "dataset['decoder_output'] = pad_sequences(kindle_reviews.sequence_summary, maxlen = MAX_SEQUENCE_SUMMARY_LENGTH-1, padding='post')\n",
    "dataset['encoder_input'] = pad_sequences(kindle_reviews.sequence_review, maxlen = MAX_SEQUENCE_REVIEW_LENGTH, padding='pre')"
   ]
  },
  {
   "cell_type": "code",
   "execution_count": 18,
   "metadata": {},
   "outputs": [
    {
     "data": {
      "text/plain": [
       "((982619, 8), (982619, 9), (982619, 22))"
      ]
     },
     "execution_count": 18,
     "metadata": {},
     "output_type": "execute_result"
    }
   ],
   "source": [
    "dataset['decoder_output'].shape, dataset['decoder_input'].shape, dataset['encoder_input'].shape"
   ]
  },
  {
   "cell_type": "code",
   "execution_count": 19,
   "metadata": {},
   "outputs": [
    {
     "data": {
      "text/plain": [
       "array([[6739,   20, 1871,   26,   22,    4,   75,  943,   44,    6,   52,\n",
       "        1647,  364, 5845, 1108,  576,  618,  203,    1, 1246, 3933,    3],\n",
       "       [   1,  152,   59,   23, 1337,    1,   12,   21, 1899,  736,   51,\n",
       "        9802, 4205,  693,  178,   40, 1991,   23,  298,   21, 2410,    3]],\n",
       "      dtype=int32)"
      ]
     },
     "execution_count": 19,
     "metadata": {},
     "output_type": "execute_result"
    }
   ],
   "source": [
    "dataset['encoder_input'][0:2]"
   ]
  },
  {
   "cell_type": "code",
   "execution_count": 20,
   "metadata": {},
   "outputs": [
    {
     "data": {
      "text/plain": [
       "0"
      ]
     },
     "execution_count": 20,
     "metadata": {},
     "output_type": "execute_result"
    }
   ],
   "source": [
    "kindle_val_reviews = kindle_reviews.loc[1000:1005,:].copy()\n",
    "gc.collect()"
   ]
  },
  {
   "cell_type": "markdown",
   "metadata": {},
   "source": [
    "## Embeddings ##\n",
    "[[ go back to the top ]](#Table-of-contents)"
   ]
  },
  {
   "cell_type": "code",
   "execution_count": 21,
   "metadata": {},
   "outputs": [],
   "source": [
    "class Embeddings:\n",
    "    \"\"\"\n",
    "    When a corpus is passed, remove the words which are not in the global vocab(glove) and use most frequent vocab_size\n",
    "    number of words. \n",
    "    \"\"\"\n",
    "    def __init__(self, embedding_dim, vocab_size):\n",
    "        self.embedding_dim = embedding_dim\n",
    "        self.vocab_size = vocab_size\n",
    "        \n",
    "    def readEmbeddings(self, filePath):\n",
    "        \"\"\"\n",
    "        Given a filepath of word embeddings creates and returns a dictionary of word, embedding values\n",
    "        \"\"\"\n",
    "        # Create a dictionary for storing all {word, embedding values}\n",
    "        wordToEmbeddingDict = {}\n",
    "        # open the file as read only\n",
    "        file = open(filePath, encoding='utf-8')\n",
    "        # read all text\n",
    "        for line in file:\n",
    "            lineValue = line.split()\n",
    "            word = lineValue[0]\n",
    "            embedding = np.asarray(lineValue[1:],dtype = 'float32')\n",
    "            wordToEmbeddingDict[word] = embedding\n",
    "        # close the file\n",
    "        file.close()\n",
    "        return wordToEmbeddingDict\n",
    "    \n",
    "    def indexToEmbedding(self, wordToIndexDict, wordToEmbeddingDict):\n",
    "        indexToEmbeddingMatrix = np.zeros((self.vocab_size, self.embedding_dim))\n",
    "        for word, index in wordToIndexDict.items():\n",
    "            if index >= self.vocab_size:\n",
    "                break\n",
    "            if word in wordToEmbeddingDict.keys():\n",
    "                indexToEmbeddingMatrix[index] = wordToEmbeddingDict[word]\n",
    "            else:\n",
    "                indexToEmbeddingMatrix[index] = np.array(np.random.uniform(-1.0, 1.0, self.embedding_dim))\n",
    "        return indexToEmbeddingMatrix\n",
    "    \n",
    "    def indexToWord(self, wordToIndexDict):\n",
    "        return {index: word for word, index in wordToIndexDict.items()}"
   ]
  },
  {
   "cell_type": "code",
   "execution_count": 22,
   "metadata": {},
   "outputs": [],
   "source": [
    "embeddings = Embeddings(EMBEDDING_DIM, RNN_VOCAB)\n",
    "wordToEmbeddingDict = embeddings.readEmbeddings(EMBEDDING_FILE_PATH)\n",
    "\n",
    "indexToEmbeddingMatrix = embeddings.indexToEmbedding(tokenize.word_index, wordToEmbeddingDict)"
   ]
  },
  {
   "cell_type": "code",
   "execution_count": 23,
   "metadata": {},
   "outputs": [],
   "source": [
    "indexToWordDict = embeddings.indexToWord(tokenize.word_index)"
   ]
  },
  {
   "cell_type": "code",
   "execution_count": 24,
   "metadata": {},
   "outputs": [
    {
     "data": {
      "text/plain": [
       "(10000, 200)"
      ]
     },
     "execution_count": 24,
     "metadata": {},
     "output_type": "execute_result"
    }
   ],
   "source": [
    "indexToEmbeddingMatrix.shape"
   ]
  },
  {
   "cell_type": "markdown",
   "metadata": {},
   "source": [
    "## Define the model ##\n",
    "[[ go back to the top ]](#Table-of-contents)\n",
    "\n",
    "Just to give you an idea of the complexity of this problem, consider the following:\n",
    "our model outputs probability of each word in the vocab (10K) probabilities, for each timestep.\n",
    "The number of timesteps for decoder are 9. and we have 982K datapoints. To store the decoder output at training step, we would require (982K \\* 9 \\* 10K) float value memory,Thus it's inefficient to be training the model, on the entire dataset. \n",
    "\n",
    "In such cases fit_generate method of keras comes handy. We can create batches of the input and output as the model trains and the previous batch is discarded at every step of the epoch! It's implemented below\n",
    "\n",
    "### 1. Helper methods ###"
   ]
  },
  {
   "cell_type": "code",
   "execution_count": 25,
   "metadata": {},
   "outputs": [],
   "source": [
    "BATCH_SIZE = 2096\n",
    "NUM_EPOCHS = 15\n",
    "STEPS_PER_EPOCH = 150\n",
    "LATENT_DIM = 512                           # Dimensions of LSTM output"
   ]
  },
  {
   "cell_type": "code",
   "execution_count": 26,
   "metadata": {},
   "outputs": [],
   "source": [
    "def get_batch_data(dataset, start, end):\n",
    "    # Decoder output will be one hot encoded values \n",
    "    # dimensions of the decoder output will be (number of samples * summary length * vocab size)\n",
    "    assert start < end\n",
    "    assert end <= dataset['encoder_input'].shape[0]\n",
    "    encoder_batch_input = dataset['encoder_input'][start:end]\n",
    "    decoder_batch_input = dataset['decoder_input'][start:end]\n",
    "    decoder_batch_output = np.zeros(((end-start), MAX_SEQUENCE_SUMMARY_LENGTH, RNN_VOCAB), dtype = 'float16')\n",
    "    for k, row in enumerate(dataset['decoder_output'][start:end]):\n",
    "        for i,value in enumerate(row):\n",
    "            if value!=0:\n",
    "                decoder_batch_output[k, i, value] = 1\n",
    "    return encoder_batch_input, decoder_batch_input, decoder_batch_output"
   ]
  },
  {
   "cell_type": "code",
   "execution_count": 27,
   "metadata": {},
   "outputs": [],
   "source": [
    "#This generate method loops indefinitely on our dataset to create training batches\n",
    "def generate_batch_data(dataset):\n",
    "    size = dataset['encoder_input'].shape[0]\n",
    "    while True:\n",
    "        start = 0\n",
    "        end = start+BATCH_SIZE\n",
    "        while True:\n",
    "            # create numpy arrays of input data\n",
    "            # and labels, from each line in the file\n",
    "            if start>=size:\n",
    "                break\n",
    "            encoder_batch_input, encoder_batch_output, decoder_batch_output = get_batch_data(dataset, start, end)\n",
    "            start = end\n",
    "            end = np.min([end+BATCH_SIZE, size])\n",
    "            yield ({'review': encoder_batch_input, \n",
    "                    'summary': encoder_batch_output},\n",
    "                   {'decoder_dense_layer': decoder_batch_output})\n"
   ]
  },
  {
   "cell_type": "markdown",
   "metadata": {},
   "source": [
    "### 2 Encoder Decoder\n",
    "\n"
   ]
  },
  {
   "cell_type": "code",
   "execution_count": 28,
   "metadata": {},
   "outputs": [],
   "source": [
    "review_input_layer = Input(shape=(MAX_SEQUENCE_REVIEW_LENGTH, ), name = 'review')\n",
    "embedding_encoder_layer = Embedding(input_length = MAX_SEQUENCE_REVIEW_LENGTH,\n",
    "                          input_dim = RNN_VOCAB,\n",
    "                          output_dim = EMBEDDING_DIM,\n",
    "                          #weights=[indexToEmbeddingMatrix],\n",
    "                          trainable = False,\n",
    "                          name = 'embedding_encoder',\n",
    "                          )\n",
    "embedding_review_output = embedding_encoder_layer(review_input_layer)\n",
    "encoder_lstm_layer = Bidirectional(CuDNNLSTM(LATENT_DIM, return_state=True, name = 'lstm_encoder'), merge_mode = 'concat')\n",
    "_, forward_h, forward_c, backward_h, backward_c = encoder_lstm_layer(embedding_review_output)\n",
    "state_h = Concatenate()([forward_h, backward_h])\n",
    "state_c = Concatenate()([forward_c, backward_c])\n",
    "encoder_states = [state_h, state_c]\n",
    "\n",
    "\n",
    "summary_input_layer = Input(shape=(MAX_SEQUENCE_SUMMARY_LENGTH, ), name = 'summary')\n",
    "embedding_decoder_layer = Embedding(#input_length = MAX_SEQUENCE_SUMMARY_LENGTH,\n",
    "                          input_dim = RNN_VOCAB,\n",
    "                          output_dim = EMBEDDING_DIM,\n",
    "                          #weights=[indexToEmbeddingMatrix],\n",
    "                          trainable=False,\n",
    "                          name = 'embedding_decoder',\n",
    "                          )\n",
    "embedding_summary_output = embedding_decoder_layer(summary_input_layer)\n",
    "decoder_lstm_layer = CuDNNLSTM(2*LATENT_DIM, return_state=True, return_sequences = True, name = 'lstm_decoder')\n",
    "decoder_output, decoder_h, decoder_c = decoder_lstm_layer(embedding_summary_output,\n",
    "                                                   initial_state = encoder_states)\n",
    "\n",
    "decoder_dense_layer = Dense(RNN_VOCAB, activation=\"softmax\", name='decoder_dense_layer')\n",
    "decoder_dense_output =  decoder_dense_layer(decoder_output)\n",
    "\n",
    "model = Model([review_input_layer, summary_input_layer], decoder_dense_output) \n",
    "sgd = optimizers.RMSprop(lr=0.0001, rho=0.9, epsilon=None, decay=0.0)\n",
    "model.compile(optimizer='rmsprop', loss='categorical_crossentropy')"
   ]
  },
  {
   "cell_type": "code",
   "execution_count": 29,
   "metadata": {},
   "outputs": [
    {
     "data": {
      "image/png": "[encoded data removed]",
      "text/plain": [
       "<IPython.core.display.Image object>"
      ]
     },
     "execution_count": 29,
     "metadata": {},
     "output_type": "execute_result"
    }
   ],
   "source": [
    "plot_model(model, to_file='model.png', show_shapes=True)\n",
    "Image(filename='model.png') "
   ]
  },
  {
   "cell_type": "markdown",
   "metadata": {},
   "source": [
    "## Train the model ##\n",
    "[[ go back to the top ]](#Table-of-contents)"
   ]
  },
  {
   "cell_type": "code",
   "execution_count": 30,
   "metadata": {},
   "outputs": [
    {
     "name": "stdout",
     "output_type": "stream",
     "text": [
      "Epoch 1/15\n",
      "468/468 [==============================] - 1353s 3s/step - loss: 2.1446\n",
      "Epoch 2/15\n",
      "468/468 [==============================] - 1321s 3s/step - loss: 2.0220\n",
      "Epoch 3/15\n",
      "468/468 [==============================] - 1325s 3s/step - loss: 1.9499\n",
      "Epoch 4/15\n",
      "468/468 [==============================] - 1326s 3s/step - loss: 1.9037\n",
      "Epoch 5/15\n",
      "468/468 [==============================] - 1325s 3s/step - loss: 1.8692\n",
      "Epoch 6/15\n",
      "468/468 [==============================] - 1324s 3s/step - loss: 1.8404\n",
      "Epoch 7/15\n",
      "468/468 [==============================] - 1344s 3s/step - loss: 1.8150\n",
      "Epoch 8/15\n",
      "468/468 [==============================] - 1338s 3s/step - loss: 1.7911\n",
      "Epoch 9/15\n",
      "468/468 [==============================] - 1368s 3s/step - loss: 1.7688\n",
      "Epoch 10/15\n",
      "468/468 [==============================] - 1336s 3s/step - loss: 1.7470\n",
      "Epoch 11/15\n",
      "468/468 [==============================] - 1368s 3s/step - loss: 1.7258\n",
      "Epoch 12/15\n",
      "468/468 [==============================] - 1325s 3s/step - loss: 1.7046\n",
      "Epoch 13/15\n",
      "468/468 [==============================] - 1329s 3s/step - loss: 1.6838\n",
      "Epoch 14/15\n",
      "468/468 [==============================] - 1324s 3s/step - loss: 1.6631\n",
      "Epoch 15/15\n",
      "468/468 [==============================] - 1322s 3s/step - loss: 1.6427\n"
     ]
    },
    {
     "data": {
      "text/plain": [
       "<keras.callbacks.History at 0x7ff9c7d0b240>"
      ]
     },
     "execution_count": 30,
     "metadata": {},
     "output_type": "execute_result"
    }
   ],
   "source": [
    "model.fit_generator(generator = generate_batch_data(dataset),use_multiprocessing=True,\n",
    "                    epochs=NUM_EPOCHS, steps_per_epoch = dataset['encoder_input'].shape[0]//BATCH_SIZE)"
   ]
  },
  {
   "cell_type": "code",
   "execution_count": 31,
   "metadata": {},
   "outputs": [],
   "source": [
    "#Always save your weights\n",
    "model.save_weights('summarization_weights.h5')"
   ]
  },
  {
   "cell_type": "code",
   "execution_count": 32,
   "metadata": {},
   "outputs": [],
   "source": [
    "model.load_weights('summarization_weights.h5')"
   ]
  },
  {
   "cell_type": "markdown",
   "metadata": {},
   "source": [
    "In the inference model, we need to keep in mind following few things\n",
    "\n",
    "First we will encode the sequence, the encoder's output is of no use thus it will be discarded, state_c and state_h of the last timestep will be used as initial state of decoder, same as training. \n",
    "\n",
    "Also decoder will receive one input of initial time step ('<start\\>' token to get started)\n",
    "\n",
    "Decoder inputs : [encoder states , <start\\>]\n",
    "\n",
    "1) decoder RNN will output one word at a time,(output dim :{ 1, 1, RNN_VOCAB}\n",
    "\n",
    "2) from argmax index to word mapping could be used to find the output word,\n",
    "\n",
    "For the next timestep we need the decoder's states as well as an output of decoder LSTM\n",
    "\n",
    "3) Next we need to provide our decoder with the decoder states and the output word again\n",
    "\n",
    "We need to encapsulate decoder in separate block, is because it is gonna run recursively\n"
   ]
  },
  {
   "cell_type": "markdown",
   "metadata": {},
   "source": [
    "## Define Inference model ##\n",
    "[[ go back to the top ]](#Table-of-contents)\n",
    "\n",
    "Like training we have 2 separate models for encoder and decoder. \n",
    "#### Encoder\n",
    "From encoder we extract the thought vector to feed to the decoder."
   ]
  },
  {
   "cell_type": "code",
   "execution_count": 33,
   "metadata": {},
   "outputs": [
    {
     "data": {
      "image/png": "[encoded data removed]",
      "text/plain": [
       "<IPython.core.display.Image object>"
      ]
     },
     "execution_count": 33,
     "metadata": {},
     "output_type": "execute_result"
    }
   ],
   "source": [
    "# Define inference model\n",
    "encoder_inference_model = Model(review_input_layer, encoder_states)\n",
    "plot_model(encoder_inference_model, to_file='inference_encoder.png', show_shapes=True)\n",
    "\n",
    "Image(filename='inference_encoder.png') "
   ]
  },
  {
   "cell_type": "markdown",
   "metadata": {},
   "source": [
    " #### Decoder\n",
    "- 3 inputs to the decoder are, previous time step hidden state, previous time step cell state and input at current timestep\n",
    "- For first time step we have though vector as, hidden state and cell state as inputs from previous time step\n",
    "- After that, decoder cell is called recursively"
   ]
  },
  {
   "cell_type": "code",
   "execution_count": 34,
   "metadata": {},
   "outputs": [],
   "source": [
    "#Exactly same decoder model is used with different input and output adjustments\n",
    "\n",
    "decoder_state_input_h = Input(shape=(2*LATENT_DIM,))  # These states are required for feeding back to our next timestep decoder\n",
    "decoder_state_input_c = Input(shape=(2*LATENT_DIM,))\n",
    "decoder_states_inputs = [decoder_state_input_h, decoder_state_input_c]\n",
    "\n",
    "#Now we shall reuse our decoder\n",
    "summary_for_decoder = Input(shape=(1,))\n",
    "embedding_summary_decoder = embedding_decoder_layer(summary_for_decoder)\n",
    "\n",
    "decoder_inference_output, decoder_states_c, decoder_states_h = decoder_lstm_layer(embedding_summary_decoder, initial_state = decoder_states_inputs)\n",
    "decoder_states_outputs = [decoder_states_c, decoder_states_h]\n",
    "output_prob = decoder_dense_layer(decoder_inference_output)\n",
    "decoder_inference_model = Model(\n",
    "    [summary_for_decoder] + decoder_states_inputs,\n",
    "    decoder_states_outputs + [output_prob])"
   ]
  },
  {
   "cell_type": "code",
   "execution_count": 35,
   "metadata": {},
   "outputs": [
    {
     "data": {
      "image/png": "[encoded data removed]",
      "text/plain": [
       "<IPython.core.display.Image object>"
      ]
     },
     "execution_count": 35,
     "metadata": {},
     "output_type": "execute_result"
    }
   ],
   "source": [
    "plot_model(decoder_inference_model, to_file='inference_decoder.png', show_shapes=True)\n",
    "\n",
    "Image(filename='inference_decoder.png') "
   ]
  },
  {
   "cell_type": "code",
   "execution_count": 36,
   "metadata": {},
   "outputs": [],
   "source": [
    "def decode_sequence(input_sequence):\n",
    "    # Encode the input as state vectors. states_h and states_c for decoder init\n",
    "    encoder_states_value = encoder_inference_model.predict(input_sequence)\n",
    "    \n",
    "    # Generate empty target sequence of length 1, for decoder input  \n",
    "    # Populate the first character of target sequence with the start character.\n",
    "    target_sequence = np.zeros((1,1))\n",
    "    target_sequence[0,0] = tokenize.word_index['start']\n",
    "    # Sampling loop for a batch of sequences\n",
    "    stop_condition = False\n",
    "    decoded_sentence = []\n",
    "   \n",
    "    while not stop_condition:\n",
    "      \n",
    "        h, c, output_tokens = decoder_inference_model.predict([target_sequence] + encoder_states_value,batch_size=1)\n",
    "        # Sample a token\n",
    "        \n",
    "        sampled_word_index = np.argmax(output_tokens)#np.random.choice(np.arange(10003), p=output_tokens.flatten())\n",
    "        if sampled_word_index == 0:\n",
    "            decoded_sentence += ['<pad>']\n",
    "            continue\n",
    "        sampled_word = indexToWordDict[sampled_word_index]\n",
    "        decoded_sentence += [sampled_word]\n",
    "        \n",
    "        # Exit condition: either hit max length=\n",
    "        # or find stop character.\n",
    "        if (sampled_word == 'end' or\n",
    "           len(decoded_sentence) > MAX_SEQUENCE_SUMMARY_LENGTH):\n",
    "            stop_condition = True\n",
    "\n",
    "        # Update the target sequence (of length 1).\n",
    "            target_sequence[0, 0] = sampled_word_index\n",
    "        # Update states\n",
    "        encoder_states_value = [h, c]\n",
    "    return ' '.join(decoded_sentence)"
   ]
  },
  {
   "cell_type": "markdown",
   "metadata": {},
   "source": [
    "## Try it ##\n",
    "[[ go back to the top ]](#Table-of-contents)"
   ]
  },
  {
   "cell_type": "code",
   "execution_count": 37,
   "metadata": {},
   "outputs": [],
   "source": [
    "def summarize(input_seq):\n",
    "    input_seq = pad_sequences(tokenize.texts_to_sequences([clean_text(input_seq)]),MAX_SEQUENCE_REVIEW_LENGTH)\n",
    "    return decode_sequence(input_seq)"
   ]
  },
  {
   "cell_type": "code",
   "execution_count": 38,
   "metadata": {},
   "outputs": [
    {
     "data": {
      "text/plain": [
       "'stars finish finish finish it it <end> <end> <end> <end>'"
      ]
     },
     "execution_count": 38,
     "metadata": {},
     "output_type": "execute_result"
    }
   ],
   "source": [
    "summarize(\"The book was very nice, will read it again\")"
   ]
  },
  {
   "cell_type": "code",
   "execution_count": 39,
   "metadata": {},
   "outputs": [
    {
     "data": {
      "text/plain": [
       "'stars finish finish finish finish interest interest new <end> <end>'"
      ]
     },
     "execution_count": 39,
     "metadata": {},
     "output_type": "execute_result"
    }
   ],
   "source": [
    "summarize(\"very very bad book, didn't like it much\")"
   ]
  },
  {
   "cell_type": "code",
   "execution_count": 40,
   "metadata": {},
   "outputs": [
    {
     "name": "stdout",
     "output_type": "stream",
     "text": [
      "Input review :  <start> stephanie bond new favorite author really great bringing story keeping hanging end hard books start <end>\n",
      "Expected review :  <start> really great book hillarious <end>\n",
      "Predicted output :  new new new new new new series <end> <end> <end>\n",
      "\n",
      "\n",
      "Input review :  <start> stephanie bond writes funny romances easy read funny enjoyable story stephanie bond reader <end>\n",
      "Expected review :  <start> naughty nice <end>\n",
      "Predicted output :  funny funny new series s sleep loved it <end> <end>\n",
      "\n",
      "\n",
      "Input review :  <start> stephanie bond excellent author enjoy romantic comedy added list favorite authors books delightfully humorous hope continues tickle funny bones years <end>\n",
      "Expected review :  <start> reading delightful <end>\n",
      "Predicted output :  great new new new series new series <end> <end> <end>\n",
      "\n",
      "\n",
      "Input review :  <start> stephanie bond entertaining never unnecessary descriptive sex tells good story without junk <end>\n",
      "Expected review :  <start> good christmastime read <end>\n",
      "Predicted output :  good new series new finish paranormal paranormal <end> <end> <end>\n",
      "\n",
      "\n",
      "Input review :  <start> fun holiday story interesting characters story unique cindy getting really funny situations bond good writer easy read <end>\n",
      "Expected review :  <start> nice <end>\n",
      "Predicted output :  fun new new series new interested story story <end> <end>\n",
      "\n",
      "\n"
     ]
    }
   ],
   "source": [
    "# Try if it's overfitting\n",
    "for index,row in kindle_val_reviews.head(5).iterrows():\n",
    "    print(\"Input review : \" , row.review)\n",
    "    print(\"Expected review : \", row.summary)\n",
    "    print(\"Predicted output : \", summarize(row.review))\n",
    "    print(\"\\n\")"
   ]
  },
  {
   "cell_type": "markdown",
   "metadata": {},
   "source": [
    "## The most important part ##\n",
    "[[ go back to the top ]](#Table-of-contents)\n",
    "\n",
    "What did I learn and improvements!\n",
    "1. Can't expect results without considerable number of epochs and good sized data, for this problem.\n",
    "For NMT, many small datasets have proven to generate decent translation with the same architecture, cause at the end of the day it's a bit simpler problem where one to one mapping of token from one language to other is possible. In abstractive summarization, it cant be done.\n",
    "2. OOV, <start\\> and <end\\> could be mostly generated and it can be safely concluded that the model has learnt to give these words higher importance/ more probability score simply cause they occur almost in every sentence. This doesn't mean model is incorrectly implemented, but simply it needs to be trained on more data and for more epochs\n",
    "3. During the implementation of the LSTMs, using CUDNNLSTM makes more sense as it's faster in computations\n",
    "4. Longer sentences, need to be avoided for this problem as LSTMs could easily run into vanishing gradient problem\n",
    "5. If batch_size is known in advance, stateful lstms could be implemented and it improves performance marginally\n",
    "6. Bidirectional wrapper returns 5 outputs, lstms output, the forward and backward hidden and cell states. The unused variables should not be names to save memory\n",
    "7. Hyperparameters that seem to have considerable impact: \n",
    "    1. batch_size\n",
    "    2. learning rate\n",
    "    3. lstm units/ size of context vector\n",
    "    4. number of epochs\n",
    "8. Using categorical cross entropy could potentially save a lot of memory instead of one hot encoding of decoder's softmax output"
   ]
  },
  {
   "cell_type": "markdown",
   "metadata": {},
   "source": [
    "When same model was trained on NMT problem for 1 epoch and small dataset, it generated, repeating words and additional training improved performance greatly. Thus it's safe to conclude that given more time and data, this model could generate better summaries!"
   ]
  },
  {
   "cell_type": "markdown",
   "metadata": {},
   "source": [
    "## Further Improvements ##\n",
    "[[ go back to the top ]](#Table-of-contents)\n",
    "\n",
    "- implementation of a pipeline for pre-processing text data\n",
    "- attention mechanism\n",
    "- beam search\n",
    "- seq2seq-vis by IBM"
   ]
  }
 ],
 "metadata": {
  "kernelspec": {
   "display_name": "Python 3",
   "language": "python",
   "name": "python3"
  },
  "language_info": {
   "codemirror_mode": {
    "name": "ipython",
    "version": 3
   },
   "file_extension": ".py",
   "mimetype": "text/x-python",
   "name": "python",
   "nbconvert_exporter": "python",
   "pygments_lexer": "ipython3",
   "version": "3.6.6"
  }
 },
 "nbformat": 4,
 "nbformat_minor": 1
}
